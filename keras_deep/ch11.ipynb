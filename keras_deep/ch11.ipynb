{
 "cells": [
  {
   "cell_type": "markdown",
   "id": "ea4490c7",
   "metadata": {},
   "source": [
    "## 텍스트를 위한 딥러닝"
   ]
  },
  {
   "cell_type": "code",
   "execution_count": null,
   "id": "1bd5db04",
   "metadata": {},
   "outputs": [],
   "source": []
  }
 ],
 "metadata": {
  "kernelspec": {
   "display_name": "Python 3 (ipykernel)",
   "language": "python",
   "name": "python3"
  },
  "language_info": {
   "codemirror_mode": {
    "name": "ipython",
    "version": 3
   },
   "file_extension": ".py",
   "mimetype": "text/x-python",
   "name": "python",
   "nbconvert_exporter": "python",
   "pygments_lexer": "ipython3",
   "version": "3.9.7"
  }
 },
 "nbformat": 4,
 "nbformat_minor": 5
}
