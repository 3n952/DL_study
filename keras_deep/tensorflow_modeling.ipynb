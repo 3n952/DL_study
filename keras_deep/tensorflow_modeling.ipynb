{
 "cells": [
  {
   "cell_type": "markdown",
   "metadata": {},
   "source": [
    "# sequential api"
   ]
  },
  {
   "cell_type": "code",
   "execution_count": 4,
   "metadata": {},
   "outputs": [],
   "source": [
    "from tensorflow import keras\n",
    "from tensorflow.keras import layers\n",
    "\n",
    "model_seq1 = keras.Sequential([\n",
    "    layers.Dense(30, activation = 'relu'),\n",
    "    layers.Dense(10, activation = 'softmax')\n",
    "])\n",
    "\n",
    "model_seq2 = keras.Sequential()\n",
    "model_seq2.add(layers.Dense(10, activation = 'softmax'))\n"
   ]
  },
  {
   "cell_type": "code",
   "execution_count": 5,
   "metadata": {},
   "outputs": [
    {
     "data": {
      "text/plain": [
       "[<tf.Variable 'dense_3/kernel:0' shape=(3, 30) dtype=float32, numpy=\n",
       " array([[-0.1605035 ,  0.27830476,  0.15772212, -0.4206799 ,  0.24517667,\n",
       "         -0.09325305, -0.17684525,  0.41972333,  0.39067262,  0.04795581,\n",
       "         -0.2859764 , -0.31173602, -0.31357682,  0.02968591,  0.06046522,\n",
       "          0.00827652, -0.01490405, -0.29353017, -0.11058918, -0.00673145,\n",
       "          0.05715144, -0.24926695, -0.27098763,  0.4254099 , -0.11128575,\n",
       "         -0.10295162,  0.23222816,  0.15531027, -0.08585307,  0.24225682],\n",
       "        [ 0.15248245,  0.19952089,  0.04438362, -0.3330322 ,  0.12689555,\n",
       "          0.41708708,  0.27320856,  0.17457181,  0.39046645, -0.4068089 ,\n",
       "          0.37181073,  0.12905163, -0.15637347, -0.4254501 ,  0.35921687,\n",
       "         -0.10039145,  0.23235494,  0.35403425,  0.06405684,  0.2501629 ,\n",
       "         -0.06056923, -0.26335436,  0.20915037, -0.07025385,  0.27063793,\n",
       "         -0.2548421 ,  0.1242668 , -0.2858234 , -0.04399413,  0.09021699],\n",
       "        [ 0.26958382, -0.07422346, -0.20185982, -0.26362193,  0.22444588,\n",
       "          0.28485692, -0.00470981,  0.15916026, -0.1703397 , -0.1984522 ,\n",
       "          0.28474385,  0.11076677, -0.29726058, -0.0252066 ,  0.16546512,\n",
       "          0.39279342,  0.37364304,  0.02557787, -0.24598113, -0.09034014,\n",
       "         -0.2860577 , -0.06541291,  0.1477859 , -0.18300435, -0.07089362,\n",
       "          0.2108618 ,  0.33964825,  0.38524377, -0.343945  ,  0.37809741]],\n",
       "       dtype=float32)>,\n",
       " <tf.Variable 'dense_3/bias:0' shape=(30,) dtype=float32, numpy=\n",
       " array([0., 0., 0., 0., 0., 0., 0., 0., 0., 0., 0., 0., 0., 0., 0., 0., 0.,\n",
       "        0., 0., 0., 0., 0., 0., 0., 0., 0., 0., 0., 0., 0.], dtype=float32)>,\n",
       " <tf.Variable 'dense_4/kernel:0' shape=(30, 10) dtype=float32, numpy=\n",
       " array([[-0.14578454,  0.25278288,  0.14325821, -0.3821015 ,  0.22269279,\n",
       "         -0.0847013 , -0.1606277 ,  0.38123268,  0.35484606,  0.04355803],\n",
       "        [-0.25975096, -0.28314832, -0.2848203 ,  0.02696359,  0.05492026,\n",
       "          0.00751752, -0.01353729, -0.26661205, -0.1004476 , -0.00611416],\n",
       "        [ 0.05191037, -0.22640796, -0.24613675,  0.38639778, -0.1010803 ,\n",
       "         -0.09351045,  0.21093172,  0.14106756, -0.07797992,  0.22004074],\n",
       "        [ 0.13849908,  0.18122381,  0.04031342, -0.30249152,  0.11525863,\n",
       "          0.37883812,  0.24815398,  0.15856272,  0.35465878, -0.36950257],\n",
       "        [ 0.3377139 ,  0.11721694, -0.14203326, -0.38643423,  0.32627493,\n",
       "         -0.09118506,  0.21104687,  0.3215676 ,  0.05818251,  0.22722173],\n",
       "        [-0.05501473, -0.23920348,  0.18997031, -0.06381121,  0.24581909,\n",
       "         -0.23147184,  0.11287093, -0.259612  , -0.03995967,  0.08194366],\n",
       "        [ 0.24486166, -0.06741679, -0.18334828, -0.23944652,  0.20386308,\n",
       "          0.2587341 , -0.00427788,  0.14456445, -0.15471873, -0.18025316],\n",
       "        [ 0.25863147,  0.10060892, -0.27000034, -0.02289504,  0.15029114,\n",
       "          0.3567723 ,  0.33937812,  0.02323225, -0.22342347, -0.08205551],\n",
       "        [-0.25982484, -0.05941421,  0.13423318, -0.16622196, -0.06439233,\n",
       "          0.19152474,  0.30850083,  0.34991503, -0.31240356,  0.34342408],\n",
       "        [ 0.14908576,  0.37722462,  0.38149595, -0.22926696, -0.18281345,\n",
       "          0.22775322,  0.17021477, -0.01668715, -0.22179773,  0.22008455],\n",
       "        [ 0.33468068,  0.04847249, -0.01874235, -0.15070835,  0.03004244,\n",
       "         -0.3379129 ,  0.10452253,  0.11121112, -0.12222338,  0.26801014],\n",
       "        [-0.22029686, -0.30403966, -0.2836839 ,  0.35335487,  0.11484754,\n",
       "          0.04256824, -0.36896053,  0.18655759, -0.11155453, -0.15558228],\n",
       "        [ 0.1472218 , -0.22378904, -0.38043755, -0.05846348, -0.322944  ,\n",
       "         -0.07155341,  0.0593338 , -0.00060058, -0.22600637, -0.3303048 ],\n",
       "        [ 0.29775858, -0.25495505, -0.05972689,  0.37232214, -0.04912192,\n",
       "         -0.2836668 , -0.29573607,  0.2855745 , -0.2429796 , -0.12509948],\n",
       "        [ 0.1679526 , -0.08041048, -0.38449445,  0.31435877,  0.23169148,\n",
       "          0.22723866,  0.335061  ,  0.33761203,  0.3128816 , -0.24317268],\n",
       "        [-0.0012137 ,  0.24290591,  0.26053113, -0.34440082, -0.36517647,\n",
       "          0.1282394 , -0.1420315 , -0.31736982, -0.15173848, -0.3855377 ],\n",
       "        [ 0.10319543, -0.2674924 ,  0.1361025 ,  0.31577557, -0.12575388,\n",
       "         -0.02669719, -0.15199961, -0.04828218,  0.19314158,  0.1825102 ],\n",
       "        [-0.03694212, -0.00743756, -0.24095248,  0.01570514,  0.28945756,\n",
       "         -0.02384427,  0.10792136,  0.11364239,  0.35822582, -0.06964272],\n",
       "        [ 0.28304344,  0.29922503, -0.17199352,  0.29882103, -0.2184485 ,\n",
       "         -0.16177362, -0.35667187,  0.24297482,  0.24321193,  0.01689151],\n",
       "        [-0.2904976 ,  0.03783771,  0.21346128,  0.09174344, -0.19414319,\n",
       "          0.3047406 , -0.16713594,  0.15749604, -0.18418847, -0.04398453],\n",
       "        [-0.02597609, -0.34096295, -0.07669899,  0.14943796, -0.28778714,\n",
       "         -0.21091983, -0.1263273 ,  0.02549493,  0.07082337, -0.21891463],\n",
       "        [ 0.02494782, -0.34741947, -0.3566908 , -0.06299892,  0.22416764,\n",
       "         -0.35333785,  0.36371833, -0.00684601, -0.1002174 , -0.12753427],\n",
       "        [-0.36591297,  0.38541996,  0.01683009, -0.22999966,  0.16905934,\n",
       "          0.26540452,  0.3518679 ,  0.3107077 ,  0.09945273, -0.32053235],\n",
       "        [ 0.05266699, -0.16449587, -0.24145018,  0.12848353,  0.09219313,\n",
       "         -0.35303998, -0.00289217,  0.11424226, -0.11172149, -0.13916494],\n",
       "        [-0.12622046,  0.18521088, -0.2593962 , -0.06540805,  0.2218309 ,\n",
       "         -0.03176299, -0.05665135,  0.04883373, -0.35542324,  0.19612902],\n",
       "        [-0.24542907, -0.14866404, -0.15117854, -0.32059237,  0.19566953,\n",
       "         -0.05875039,  0.22289056, -0.29735607, -0.11421362,  0.00556824],\n",
       "        [-0.2597398 ,  0.03182736,  0.05931365, -0.25682306,  0.23296797,\n",
       "         -0.12019396, -0.14921881,  0.36412   , -0.05161461,  0.01417229],\n",
       "        [ 0.27541345, -0.2171781 ,  0.20210153, -0.35040516,  0.01019627,\n",
       "          0.36669093, -0.12903276, -0.36288065, -0.16363655,  0.06766897],\n",
       "        [ 0.19883662,  0.15958035,  0.04560786, -0.07677102,  0.26162165,\n",
       "          0.20535916,  0.03121033,  0.01894319,  0.30715925, -0.05779698],\n",
       "        [ 0.14129889, -0.251747  , -0.06481817,  0.2572829 , -0.1443337 ,\n",
       "         -0.2701309 , -0.20441693,  0.04997578, -0.0414443 , -0.06950846]],\n",
       "       dtype=float32)>,\n",
       " <tf.Variable 'dense_4/bias:0' shape=(10,) dtype=float32, numpy=array([0., 0., 0., 0., 0., 0., 0., 0., 0., 0.], dtype=float32)>]"
      ]
     },
     "execution_count": 5,
     "metadata": {},
     "output_type": "execute_result"
    }
   ],
   "source": [
    "model_seq1.build(input_shape=(None,3))\n",
    "model_seq1.weights\n"
   ]
  },
  {
   "cell_type": "code",
   "execution_count": 6,
   "metadata": {},
   "outputs": [
    {
     "name": "stdout",
     "output_type": "stream",
     "text": [
      "Model: \"sequential_2\"\n",
      "_________________________________________________________________\n",
      " Layer (type)                Output Shape              Param #   \n",
      "=================================================================\n",
      " dense_3 (Dense)             (None, 30)                120       \n",
      "                                                                 \n",
      " dense_4 (Dense)             (None, 10)                310       \n",
      "                                                                 \n",
      "=================================================================\n",
      "Total params: 430\n",
      "Trainable params: 430\n",
      "Non-trainable params: 0\n",
      "_________________________________________________________________\n"
     ]
    }
   ],
   "source": [
    "model_seq1.summary()"
   ]
  },
  {
   "cell_type": "code",
   "execution_count": 8,
   "metadata": {},
   "outputs": [
    {
     "name": "stdout",
     "output_type": "stream",
     "text": [
      "Model: \"sequential_4\"\n",
      "_________________________________________________________________\n",
      " Layer (type)                Output Shape              Param #   \n",
      "=================================================================\n",
      " dense_6 (Dense)             (None, 10)                40        \n",
      "                                                                 \n",
      "=================================================================\n",
      "Total params: 40\n",
      "Trainable params: 40\n",
      "Non-trainable params: 0\n",
      "_________________________________________________________________\n"
     ]
    }
   ],
   "source": [
    "# build 하지 않고도 weight 생성하려면 input 클래스 객체를 layer에 추가해주면된다. 이 때 input shape은 배치 크가가아닌 샘플의 크기\n",
    "\n",
    "model_seq3 = keras.Sequential()\n",
    "model_seq3.add(keras.Input(shape = (3,)))\n",
    "model_seq3.add(layers.Dense(10, activation = 'softmax'))\n",
    "model_seq3.summary()"
   ]
  },
  {
   "cell_type": "markdown",
   "metadata": {},
   "source": [
    "# functional api"
   ]
  },
  {
   "cell_type": "code",
   "execution_count": 1,
   "metadata": {},
   "outputs": [
    {
     "name": "stdout",
     "output_type": "stream",
     "text": [
      "Metal device set to: Apple M1\n",
      "\n",
      "systemMemory: 16.00 GB\n",
      "maxCacheSize: 5.33 GB\n",
      "\n",
      "Model: \"model\"\n",
      "__________________________________________________________________________________________________\n",
      " Layer (type)                   Output Shape         Param #     Connected to                     \n",
      "==================================================================================================\n",
      " input_1 (InputLayer)           [(None, 100)]        0           []                               \n",
      "                                                                                                  \n",
      " input_2 (InputLayer)           [(None, 300)]        0           []                               \n",
      "                                                                                                  \n",
      " concatenate (Concatenate)      (None, 400)          0           ['input_1[0][0]',                \n",
      "                                                                  'input_2[0][0]']                \n",
      "                                                                                                  \n",
      " dense (Dense)                  (None, 64)           25664       ['concatenate[0][0]']            \n",
      "                                                                                                  \n",
      " dense_1 (Dense)                (None, 1)            65          ['dense[0][0]']                  \n",
      "                                                                                                  \n",
      " dense_2 (Dense)                (None, 10)           650         ['dense[0][0]']                  \n",
      "                                                                                                  \n",
      "==================================================================================================\n",
      "Total params: 26,379\n",
      "Trainable params: 26,379\n",
      "Non-trainable params: 0\n",
      "__________________________________________________________________________________________________\n"
     ]
    },
    {
     "name": "stderr",
     "output_type": "stream",
     "text": [
      "2024-06-11 15:42:42.403004: I tensorflow/core/common_runtime/pluggable_device/pluggable_device_factory.cc:305] Could not identify NUMA node of platform GPU ID 0, defaulting to 0. Your kernel may not have been built with NUMA support.\n",
      "2024-06-11 15:42:42.403098: I tensorflow/core/common_runtime/pluggable_device/pluggable_device_factory.cc:271] Created TensorFlow device (/job:localhost/replica:0/task:0/device:GPU:0 with 0 MB memory) -> physical PluggableDevice (device: 0, name: METAL, pci bus id: <undefined>)\n"
     ]
    }
   ],
   "source": [
    "from tensorflow import keras\n",
    "from tensorflow.keras import layers\n",
    "\n",
    "# 다중 입력 , 다중 출력\n",
    "input_shape1 = 100\n",
    "input_shape2 = 300\n",
    "\n",
    "input1 = keras.Input(shape = input_shape1,)\n",
    "input2 = keras.Input(shape = input_shape2,)\n",
    "\n",
    "total_input = keras.layers.Concatenate()([input1, input2])\n",
    "x = keras.layers.Dense(64, activation = 'relu')(total_input)\n",
    "\n",
    "output1 = keras.layers.Dense(1, activation = 'sigmoid')(x)\n",
    "output2 = keras.layers.Dense(10, activation = 'softmax')(x)\n",
    "\n",
    "model_func1 = keras.Model(inputs = [input1, input2], outputs = [output1, output2])\n",
    "\n",
    "model_func1.summary()\n"
   ]
  },
  {
   "cell_type": "code",
   "execution_count": 13,
   "metadata": {},
   "outputs": [],
   "source": [
    "# 모델 중간층의 출력을 새로운 입력으로 추가할수있다. -> 툭성 추출\n",
    "\n",
    "x = model_func1.layers[3].output\n",
    "output3 = layers.Dense(5, activation = 'softmax')(x)\n",
    "model_func2 = keras.Model(inputs = [input1, input2], outputs = [output1, output2, output3])"
   ]
  },
  {
   "cell_type": "code",
   "execution_count": 14,
   "metadata": {},
   "outputs": [
    {
     "name": "stdout",
     "output_type": "stream",
     "text": [
      "Model: \"model_3\"\n",
      "__________________________________________________________________________________________________\n",
      " Layer (type)                   Output Shape         Param #     Connected to                     \n",
      "==================================================================================================\n",
      " input_1 (InputLayer)           [(None, 100)]        0           []                               \n",
      "                                                                                                  \n",
      " input_2 (InputLayer)           [(None, 300)]        0           []                               \n",
      "                                                                                                  \n",
      " concatenate (Concatenate)      (None, 400)          0           ['input_1[0][0]',                \n",
      "                                                                  'input_2[0][0]']                \n",
      "                                                                                                  \n",
      " dense (Dense)                  (None, 64)           25664       ['concatenate[0][0]']            \n",
      "                                                                                                  \n",
      " dense_1 (Dense)                (None, 1)            65          ['dense[0][0]']                  \n",
      "                                                                                                  \n",
      " dense_2 (Dense)                (None, 10)           650         ['dense[0][0]']                  \n",
      "                                                                                                  \n",
      " dense_5 (Dense)                (None, 5)            325         ['dense[0][0]']                  \n",
      "                                                                                                  \n",
      "==================================================================================================\n",
      "Total params: 26,704\n",
      "Trainable params: 26,704\n",
      "Non-trainable params: 0\n",
      "__________________________________________________________________________________________________\n"
     ]
    }
   ],
   "source": [
    "model_func2.summary()"
   ]
  },
  {
   "cell_type": "markdown",
   "metadata": {},
   "source": [
    "# subclassing api\n",
    "\n",
    "- __init__() 메서드에서 사용할 층 정의\n",
    "- call() 메서드에서 위의 층을 사용하여 forward pass\n",
    "- 서브클래스 객체 만들고 데이터와 함께 호출하여 모델 가중치 만든다.\n"
   ]
  },
  {
   "cell_type": "code",
   "execution_count": 21,
   "metadata": {},
   "outputs": [],
   "source": [
    "class model_subclass(keras.Model):\n",
    "    def __init__(self):\n",
    "        super().__init__()\n",
    "        self.concat_layer = layers.Concatenate()\n",
    "        self.dense1 = layers.Dense(64, activation = 'softmax')\n",
    "        self.dense2 = layers.Dense(1, activation = 'sigmoid')\n",
    "    \n",
    "    def call(self, inputs):\n",
    "        input1 = inputs[0]\n",
    "        input2 = inputs[1]\n",
    "        x = self.concat_layer([input1, input2])\n",
    "        output1 = self.dense1(x)\n",
    "        output2 = self.dense2(x)\n",
    "\n",
    "        return output1, output2\n",
    "\n",
    "model_sub1 = model_subclass()\n",
    "\n",
    "\n",
    "\n"
   ]
  },
  {
   "cell_type": "markdown",
   "metadata": {},
   "source": [
    "# 방식 혼합하기 -> 중요!"
   ]
  },
  {
   "cell_type": "code",
   "execution_count": 23,
   "metadata": {},
   "outputs": [
    {
     "name": "stdout",
     "output_type": "stream",
     "text": [
      "Model: \"model_4\"\n",
      "_________________________________________________________________\n",
      " Layer (type)                Output Shape              Param #   \n",
      "=================================================================\n",
      " input_4 (InputLayer)        [(None, 64)]              0         \n",
      "                                                                 \n",
      " dense_23 (Dense)            (None, 64)                4160      \n",
      "                                                                 \n",
      " class_func_1 (class_func)   (None, 10)                650       \n",
      "                                                                 \n",
      "=================================================================\n",
      "Total params: 4,810\n",
      "Trainable params: 4,810\n",
      "Non-trainable params: 0\n",
      "_________________________________________________________________\n"
     ]
    }
   ],
   "source": [
    "class class_func(keras.Model):\n",
    "    def __init__(self):\n",
    "        super().__init__()\n",
    "        self.denselayer = layers.Dense(10, activation = 'softmax')\n",
    "        self.denselayer2 = layers.Dense(1, activation = 'sigmoid')\n",
    "\n",
    "    def call(self, inputs):\n",
    "        output1 = self.denselayer(inputs)\n",
    "    \n",
    "        return output1\n",
    "\n",
    "inputs = keras.Input(shape=(64,))\n",
    "x = layers.Dense(64, activation = 'relu')(inputs)\n",
    "output = class_func()(x)\n",
    "model_mix1 = keras.Model(inputs = inputs, outputs = output)\n",
    "\n",
    "model_mix1.summary()"
   ]
  },
  {
   "cell_type": "code",
   "execution_count": 27,
   "metadata": {},
   "outputs": [],
   "source": [
    "inputs = keras.Input(shape=(64,))\n",
    "x = layers.Dense(10, activation = 'softmax')(inputs)\n",
    "model_mix = keras.Model(inputs = inputs, outputs = x)\n",
    "\n",
    "class func_class(keras.Model):\n",
    "    def __init__(self):\n",
    "        super().__init__()\n",
    "        self.dense = layers.Dense(64, activation = 'relu')\n",
    "        self.classifier = model_mix\n",
    "\n",
    "    def call(self, inputs):\n",
    "        x = self.dense(inputs)\n",
    "        return self.classifier(x)\n",
    "\n",
    "model_mix2 = func_class()"
   ]
  },
  {
   "cell_type": "code",
   "execution_count": 30,
   "metadata": {},
   "outputs": [
    {
     "name": "stdout",
     "output_type": "stream",
     "text": [
      "Epoch 1/5\n"
     ]
    },
    {
     "name": "stderr",
     "output_type": "stream",
     "text": [
      "2024-06-11 16:56:30.125013: I tensorflow/core/grappler/optimizers/custom_graph_optimizer_registry.cc:113] Plugin optimizer for device_type GPU is enabled.\n"
     ]
    },
    {
     "name": "stdout",
     "output_type": "stream",
     "text": [
      "1562/1563 [============================>.] - ETA: 0s - loss: 0.3234 - accuracy: 0.9101"
     ]
    },
    {
     "name": "stderr",
     "output_type": "stream",
     "text": [
      "2024-06-11 16:56:45.149851: I tensorflow/core/grappler/optimizers/custom_graph_optimizer_registry.cc:113] Plugin optimizer for device_type GPU is enabled.\n"
     ]
    },
    {
     "name": "stdout",
     "output_type": "stream",
     "text": [
      "1563/1563 [==============================] - 18s 11ms/step - loss: 0.3233 - accuracy: 0.9101 - val_loss: 0.1824 - val_accuracy: 0.9493\n",
      "Epoch 2/5\n",
      "1563/1563 [==============================] - 17s 11ms/step - loss: 0.1561 - accuracy: 0.9553 - val_loss: 0.1376 - val_accuracy: 0.9582\n",
      "Epoch 3/5\n",
      "1563/1563 [==============================] - 17s 11ms/step - loss: 0.1163 - accuracy: 0.9666 - val_loss: 0.1282 - val_accuracy: 0.9621\n",
      "Epoch 4/5\n",
      "1563/1563 [==============================] - 17s 11ms/step - loss: 0.0913 - accuracy: 0.9729 - val_loss: 0.1067 - val_accuracy: 0.9688\n",
      "Epoch 5/5\n",
      "1563/1563 [==============================] - 17s 11ms/step - loss: 0.0745 - accuracy: 0.9767 - val_loss: 0.0976 - val_accuracy: 0.9709\n"
     ]
    }
   ],
   "source": [
    "from tensorflow.keras.datasets import mnist\n",
    "from tensorflow.keras.utils import to_categorical\n",
    "\n",
    "(x_train, y_train), (x_test, y_test) = mnist.load_data()\n",
    "x_train = x_train.reshape((60000, 28*28)).astype('float32') / 255\n",
    "x_test = x_test.reshape((10000, 28*28)).astype('float32') / 255\n",
    "\n",
    "y_train = to_categorical(y_train, 10)\n",
    "y_test = to_categorical(y_test, 10)\n",
    "\n",
    "x_train, x_val = x_train[10000:], x_train[:10000]\n",
    "y_train, y_val = y_train[10000:], y_train[:10000]\n",
    "\n",
    "model_mix2.compile(\n",
    "    optimizer = 'adam',\n",
    "    loss = 'categorical_crossentropy',\n",
    "    metrics = ['accuracy']\n",
    ")\n",
    "\n",
    "history = model_mix2.fit(x_train, y_train, epochs = 5, validation_data = (x_val, y_val))\n"
   ]
  },
  {
   "cell_type": "code",
   "execution_count": 31,
   "metadata": {},
   "outputs": [
    {
     "data": {
      "image/png": "[encoded data removed]",
      "text/plain": [
       "<Figure size 640x480 with 2 Axes>"
      ]
     },
     "metadata": {},
     "output_type": "display_data"
    }
   ],
   "source": [
    "import matplotlib.pyplot as plt\n",
    "import numpy as np\n",
    "\n",
    "\n",
    "fig, loss_ax = plt.subplots()\n",
    "acc_ax = loss_ax.twinx()\n",
    "\n",
    "loss_ax.plot(history.history['loss'], 'y', label = 'train loss')\n",
    "loss_ax.plot(history.history['val_loss'], 'r', label = 'val loss')\n",
    "\n",
    "acc_ax.plot(history.history['accuracy'], 'b', label = 'train accuracy')\n",
    "acc_ax.plot(history.history['val_accuracy'], 'g', label = 'valid accuracy')\n",
    "\n",
    "loss_ax.set_xlabel('epoch')\n",
    "loss_ax.set_ylabel('loss')\n",
    "acc_ax.set_ylabel('accuracy')\n",
    "\n",
    "loss_ax.legend(loc='upper left')\n",
    "acc_ax.legend(loc='lower left')\n",
    "\n",
    "plt.show()"
   ]
  },
  {
   "cell_type": "code",
   "execution_count": 32,
   "metadata": {},
   "outputs": [
    {
     "name": "stdout",
     "output_type": "stream",
     "text": [
      "313/313 [==============================] - 3s 9ms/step - loss: 0.0930 - accuracy: 0.9711\n"
     ]
    }
   ],
   "source": [
    "test_metric = model_mix2.evaluate(x_test, y_test)\n"
   ]
  },
  {
   "cell_type": "code",
   "execution_count": 35,
   "metadata": {},
   "outputs": [
    {
     "name": "stdout",
     "output_type": "stream",
     "text": [
      "313/313 [==============================] - 0s 1ms/step\n",
      "(10000, 10)\n"
     ]
    }
   ],
   "source": [
    "predictions = model_mix2.predict(x_test)\n",
    "\n",
    "print(predictions.shape)"
   ]
  },
  {
   "cell_type": "code",
   "execution_count": null,
   "metadata": {},
   "outputs": [],
   "source": []
  }
 ],
 "metadata": {
  "kernelspec": {
   "display_name": "torch",
   "language": "python",
   "name": "python3"
  },
  "language_info": {
   "codemirror_mode": {
    "name": "ipython",
    "version": 3
   },
   "file_extension": ".py",
   "mimetype": "text/x-python",
   "name": "python",
   "nbconvert_exporter": "python",
   "pygments_lexer": "ipython3",
   "version": "3.8.18"
  }
 },
 "nbformat": 4,
 "nbformat_minor": 2
}
