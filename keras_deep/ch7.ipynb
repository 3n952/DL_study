{
 "cells": [
  {
   "cell_type": "markdown",
   "id": "1960f3b3",
   "metadata": {},
   "source": [
    "## keras로 모델을 만들기 위해 다양한 API를 제공한다.\n",
    "\n",
    "1. sequential \n",
    "2. functional\n",
    "3. subclassing\n",
    "\n",
    "-------\n",
    "\n",
    "각 사용에 대해 예시 코드로 파악해보자"
   ]
  },
  {
   "cell_type": "code",
   "execution_count": 1,
   "id": "a2a642b9",
   "metadata": {},
   "outputs": [
    {
     "name": "stdout",
     "output_type": "stream",
     "text": [
      "Metal device set to: Apple M1\n"
     ]
    }
   ],
   "source": [
    "# sequential 모델\n",
    "# 가장 간단한 방법: 단순히 층을 쌓자\n",
    "\n",
    "from tensorflow import keras\n",
    "from tensorflow.keras import layers\n",
    "\n",
    "model = keras.Sequential([\n",
    "    layers.Dense(64, activation = 'relu'),\n",
    "    layers.Dense(10, activation = 'softmax')\n",
    "])\n"
   ]
  },
  {
   "cell_type": "code",
   "execution_count": 4,
   "id": "e6cfe93b",
   "metadata": {},
   "outputs": [
    {
     "data": {
      "text/plain": [
       "[<tf.Variable 'dense/kernel:0' shape=(3, 64) dtype=float32, numpy=\n",
       " array([[-0.06772433,  0.20004049,  0.20425594, -0.11676213, -0.17820448,\n",
       "          0.1320768 , -0.00096968, -0.13764225, -0.06281976,  0.09221911,\n",
       "         -0.0998107 ,  0.22431225,  0.23264647, -0.29569814, -0.20777142,\n",
       "          0.20608604, -0.01511472, -0.13858004,  0.24877274, -0.12259023,\n",
       "         -0.2170538 , -0.03970078,  0.12425283, -0.25118834,  0.23179954,\n",
       "          0.2832911 , -0.16436271,  0.08530957, -0.27809122,  0.0267894 ,\n",
       "         -0.28984272,  0.00082165, -0.24373794, -0.2871203 , -0.27497828,\n",
       "         -0.02926886,  0.01187348, -0.20560089, -0.29400876,  0.13333651,\n",
       "         -0.2876745 ,  0.02863193, -0.21602711,  0.15187329, -0.26810622,\n",
       "         -0.159156  , -0.11384888,  0.07997161, -0.2788737 ,  0.11477596,\n",
       "         -0.10879841, -0.10674217, -0.03367984, -0.2759558 ,  0.15279579,\n",
       "         -0.24691412,  0.02053136,  0.15234709, -0.19214854, -0.06559554,\n",
       "          0.05271527,  0.09685647, -0.07319783, -0.13579057],\n",
       "        [-0.03124362, -0.02842623,  0.17098355, -0.11277531, -0.17713098,\n",
       "          0.13286868,  0.1926913 ,  0.12104961, -0.05817156, -0.06818552,\n",
       "         -0.0690484 , -0.24772362,  0.16441453, -0.04701352,  0.1835944 ,\n",
       "         -0.10281336,  0.06605467,  0.04181015, -0.23898214, -0.10061935,\n",
       "         -0.26308239,  0.15006948, -0.18020855,  0.17827618,  0.03919107,\n",
       "         -0.16303937,  0.08664218,  0.24863887, -0.1939047 , -0.21430907,\n",
       "         -0.14290127, -0.06566018,  0.03823194,  0.18910229,  0.07569307,\n",
       "          0.04165849,  0.25346637,  0.199545  ,  0.29434538,  0.08972695,\n",
       "         -0.2691957 , -0.07173328, -0.23354697,  0.23131251, -0.29677448,\n",
       "          0.08313224, -0.2222411 ,  0.22079283,  0.07589862,  0.17632112,\n",
       "          0.08430448, -0.23897137,  0.12937757,  0.18058455, -0.29062998,\n",
       "         -0.11042506, -0.04783732,  0.1849576 , -0.12817295,  0.212605  ,\n",
       "          0.25901508,  0.02863923,  0.04556581, -0.1177147 ],\n",
       "        [ 0.14334577, -0.12658918, -0.09516954, -0.11583434,  0.10526037,\n",
       "          0.06337163, -0.07948375,  0.14752093, -0.23667613,  0.25642568,\n",
       "          0.10850218,  0.16644764,  0.2990461 , -0.0250451 , -0.09811357,\n",
       "         -0.19662696,  0.20493495, -0.02267393, -0.06158482,  0.23898041,\n",
       "         -0.03096598, -0.03197265,  0.12315407,  0.09349939, -0.20929119,\n",
       "         -0.2543483 , -0.07021472,  0.27311295,  0.14817563, -0.10248959,\n",
       "          0.25954425, -0.20314083, -0.11536773,  0.10371435, -0.2054958 ,\n",
       "         -0.08682576,  0.21933603, -0.16080962, -0.27454197, -0.04185098,\n",
       "          0.21390527, -0.0464389 ,  0.25318235,  0.29027426,  0.01278797,\n",
       "          0.19842777, -0.01115182, -0.14001383, -0.10368864,  0.11634639,\n",
       "          0.01169193,  0.06121996, -0.24580531,  0.05597115,  0.18374732,\n",
       "          0.23393166,  0.2668659 ,  0.00738046, -0.22392797, -0.2066253 ,\n",
       "          0.07615626, -0.12200153,  0.18890873,  0.0039005 ]],\n",
       "       dtype=float32)>,\n",
       " <tf.Variable 'dense/bias:0' shape=(64,) dtype=float32, numpy=\n",
       " array([0., 0., 0., 0., 0., 0., 0., 0., 0., 0., 0., 0., 0., 0., 0., 0., 0.,\n",
       "        0., 0., 0., 0., 0., 0., 0., 0., 0., 0., 0., 0., 0., 0., 0., 0., 0.,\n",
       "        0., 0., 0., 0., 0., 0., 0., 0., 0., 0., 0., 0., 0., 0., 0., 0., 0.,\n",
       "        0., 0., 0., 0., 0., 0., 0., 0., 0., 0., 0., 0., 0.], dtype=float32)>,\n",
       " <tf.Variable 'dense_1/kernel:0' shape=(64, 10) dtype=float32, numpy=\n",
       " array([[ 0.27543983, -0.2688892 , -0.11816099, -0.09489344, -0.02780858,\n",
       "          0.24355516, -0.06594704,  0.26798192, -0.21104132,  0.21435988],\n",
       "        [ 0.02147067,  0.01763004, -0.02431914, -0.21620136, -0.16255453,\n",
       "         -0.1851768 , -0.1154034 ,  0.02014744, -0.2616624 ,  0.24583456],\n",
       "        [-0.201767  ,  0.04796371, -0.01019722,  0.19392818,  0.23861244,\n",
       "          0.16656414,  0.12148845,  0.05929744,  0.06423977,  0.24261132],\n",
       "        [ 0.21847877,  0.07182413,  0.21522579,  0.2559282 ,  0.24546501,\n",
       "          0.10730445,  0.27472135,  0.21963188,  0.11317909, -0.2520026 ],\n",
       "        [-0.2531698 ,  0.2598118 ,  0.06781283,  0.27169672, -0.02246633,\n",
       "         -0.25175166, -0.10226388,  0.12360412, -0.1367055 ,  0.15074137],\n",
       "        [-0.10922299, -0.10534523, -0.12419307,  0.09689319,  0.07892296,\n",
       "         -0.19228867,  0.0147326 , -0.2708459 ,  0.12771773,  0.26519284],\n",
       "        [ 0.17250985,  0.19713762,  0.20162606,  0.17640471,  0.0931626 ,\n",
       "          0.00597221, -0.1461987 , -0.07226166, -0.15330458,  0.12499845],\n",
       "        [ 0.18560368,  0.05187818,  0.20335558, -0.13090649,  0.21260828,\n",
       "          0.2606298 ,  0.09305391, -0.261011  , -0.06848975, -0.16541064],\n",
       "        [-0.12420516, -0.05017884, -0.17079076, -0.09071195,  0.17389894,\n",
       "         -0.08393858,  0.16332325,  0.0114032 , -0.2617607 ,  0.08997935],\n",
       "        [-0.04802337,  0.22174892, -0.06349352, -0.03699018, -0.08873896,\n",
       "         -0.0784926 , -0.07370926, -0.04503231, -0.27737707, -0.05383393],\n",
       "        [ 0.1027059 ,  0.04190838,  0.03770417, -0.12557876,  0.24246594,\n",
       "         -0.19863385,  0.04452938, -0.2691598 , -0.14155747, -0.18659067],\n",
       "        [ 0.19243991, -0.05254363, -0.27249715, -0.074861  , -0.21844971,\n",
       "          0.14395022, -0.06216806,  0.2247549 , -0.1636331 ,  0.24814907],\n",
       "        [-0.02687037,  0.06876484,  0.25811473, -0.01818788, -0.13781475,\n",
       "         -0.19872183,  0.06723544, -0.18376742, -0.05631317,  0.19593456],\n",
       "        [-0.04048388, -0.24439427, -0.06165026,  0.01933101,  0.15752667,\n",
       "         -0.04835677,  0.18349317, -0.274418  ,  0.18437165, -0.19436076],\n",
       "        [ 0.25507388, -0.2626971 ,  0.24824712,  0.04008448,  0.10722414,\n",
       "          0.08773407, -0.10996291, -0.16050117, -0.2470082 ,  0.21409795],\n",
       "        [ 0.19312438,  0.20701754,  0.2563167 , -0.21778914,  0.16921201,\n",
       "         -0.20012298, -0.09581843, -0.11978456,  0.20883703, -0.16435774],\n",
       "        [-0.18372533, -0.25002018, -0.10716935,  0.19891164,  0.07360575,\n",
       "         -0.13963187,  0.2707946 , -0.20456436, -0.0530107 , -0.2808019 ],\n",
       "        [-0.26221156, -0.18002307, -0.28133434, -0.15702878,  0.13724318,\n",
       "         -0.05227371,  0.01339138,  0.18012756,  0.21850047, -0.04877062],\n",
       "        [ 0.0423511 , -0.2798475 , -0.06581655,  0.05757713,  0.23080418,\n",
       "          0.0602358 , -0.22225448, -0.25046715,  0.1626068 ,  0.20945585],\n",
       "        [-0.22141056, -0.01374239, -0.22521418,  0.15740114, -0.033492  ,\n",
       "         -0.07508789, -0.05177085, -0.06991895, -0.19874436,  0.06975228],\n",
       "        [ 0.03651664, -0.13128741,  0.26323083,  0.01714417,  0.26797816,\n",
       "         -0.11007588,  0.16184938,  0.04431513,  0.01976705,  0.1889604 ],\n",
       "        [ 0.20698115,  0.17565   , -0.10940358,  0.17018914,  0.12484542,\n",
       "          0.11867452, -0.14060043, -0.02463388, -0.05602491,  0.2603018 ],\n",
       "        [ 0.26193222,  0.12588963, -0.2040763 ,  0.26714882, -0.27961844,\n",
       "          0.17709658, -0.27245215, -0.02637523, -0.19506288,  0.10192505],\n",
       "        [ 0.09846231,  0.00477409,  0.19742256,  0.09752727,  0.2712517 ,\n",
       "         -0.08314653, -0.01757437,  0.06751785, -0.06578518,  0.01529065],\n",
       "        [-0.24545741,  0.24226359, -0.17801628, -0.17728293,  0.05720061,\n",
       "         -0.2745844 ,  0.24452111,  0.06088841, -0.0013842 , -0.04890409],\n",
       "        [ 0.19239926, -0.23912907,  0.00440267, -0.28379193, -0.05024123,\n",
       "         -0.03831354, -0.10374957, -0.2657825 , -0.02708352,  0.23238274],\n",
       "        [-0.15696727,  0.23939595,  0.12242416,  0.05099398, -0.01197413,\n",
       "          0.00687173, -0.21428438, -0.25171047, -0.04390529,  0.14146182],\n",
       "        [-0.28414115, -0.04167052,  0.10899821,  0.09816188, -0.08562109,\n",
       "         -0.12143563, -0.16018052, -0.07882947,  0.26103857,  0.15132454],\n",
       "        [ 0.04130629, -0.20203963,  0.08054802,  0.05804881,  0.23247483,\n",
       "          0.15063015,  0.23689333,  0.03463122,  0.11030766, -0.09436817],\n",
       "        [ 0.2311798 ,  0.0969747 ,  0.00800732,  0.08648041,  0.20311636,\n",
       "          0.02504212,  0.20473477, -0.05374852,  0.22702721,  0.15059432],\n",
       "        [ 0.17345318, -0.24639027,  0.15767303,  0.02132538,  0.1477949 ,\n",
       "          0.2446957 ,  0.18459323, -0.23614825,  0.04585052, -0.02913651],\n",
       "        [ 0.14105225, -0.01284441, -0.09307   , -0.18139137,  0.12571812,\n",
       "          0.06304702, -0.26571855, -0.26874954,  0.14067227, -0.24406385],\n",
       "        [-0.18306252,  0.04065639, -0.16571626,  0.10390013, -0.16435963,\n",
       "          0.07973713, -0.22909248,  0.20159176, -0.22733626, -0.1940594 ],\n",
       "        [ 0.11960968,  0.20448974, -0.22477038,  0.24703392,  0.03273252,\n",
       "          0.11092606, -0.20070839, -0.2681576 ,  0.03760931,  0.20020676],\n",
       "        [-0.06846605, -0.21145163,  0.13023677, -0.04590346,  0.13441941,\n",
       "          0.04852962, -0.07740875, -0.263736  ,  0.09873766, -0.05052814],\n",
       "        [-0.23567045, -0.26338005,  0.03886059, -0.24243824,  0.06743476,\n",
       "         -0.18544197,  0.2219024 ,  0.00234863,  0.11194479, -0.00653744],\n",
       "        [ 0.24815449,  0.03187039, -0.27368453,  0.0054132 ,  0.00944614,\n",
       "          0.00837371,  0.27615765,  0.15692592,  0.177616  , -0.04847287],\n",
       "        [-0.21168476,  0.15142474, -0.24493392, -0.13348484,  0.1927672 ,\n",
       "          0.15294546, -0.07133682,  0.23328856,  0.21787271, -0.25787798],\n",
       "        [-0.21703015, -0.08040516,  0.20045403, -0.05696313, -0.04044993,\n",
       "         -0.22275516, -0.21154329, -0.18103585, -0.20504215, -0.09315786],\n",
       "        [-0.00032708,  0.01771706, -0.2046034 , -0.15954006,  0.09413424,\n",
       "          0.07120374,  0.03705326,  0.24851969,  0.1490421 ,  0.06562319],\n",
       "        [-0.18378684,  0.0434368 , -0.03202939, -0.24648559,  0.27176103,\n",
       "         -0.10546255,  0.2801369 ,  0.23769757, -0.02097359,  0.24031481],\n",
       "        [-0.2554584 ,  0.08884698, -0.24002934,  0.02560109, -0.14413066,\n",
       "          0.02897084,  0.25041935, -0.27356967,  0.17545748, -0.21710612],\n",
       "        [ 0.06579545,  0.22271404, -0.2682932 ,  0.0171625 ,  0.13262007,\n",
       "         -0.08055188,  0.27735654,  0.01275417, -0.2089675 ,  0.07452747],\n",
       "        [-0.02936149,  0.206866  ,  0.18003535, -0.179252  , -0.07199942,\n",
       "         -0.13059019,  0.13650155,  0.09058812,  0.28413126,  0.05706227],\n",
       "        [ 0.05031964,  0.00956631,  0.25007442, -0.13438152, -0.08458149,\n",
       "          0.12499064, -0.13493496,  0.15211809, -0.2183123 ,  0.14493033],\n",
       "        [ 0.20371488, -0.12775107,  0.27530405,  0.15661675, -0.16254999,\n",
       "         -0.14521445, -0.05195557, -0.18695387, -0.03477754, -0.01503327],\n",
       "        [ 0.05955189, -0.05750062,  0.04550087,  0.06363168,  0.2062937 ,\n",
       "          0.04731515,  0.04632521, -0.223042  , -0.25760472,  0.20232537],\n",
       "        [-0.22637093, -0.25937298, -0.2515281 ,  0.04647443,  0.25932673,\n",
       "         -0.05311994, -0.2704546 ,  0.26668784, -0.14687495,  0.16763964],\n",
       "        [-0.28190184,  0.24010691, -0.13394235, -0.23160492,  0.11697483,\n",
       "          0.18695748, -0.2739078 ,  0.15193704, -0.22249366,  0.2136507 ],\n",
       "        [ 0.2350708 ,  0.10316619, -0.06860679,  0.27384534,  0.03932765,\n",
       "         -0.00266242, -0.04368424,  0.12931821,  0.19166157, -0.13149033],\n",
       "        [-0.25646156, -0.11982808,  0.07118699, -0.02646044, -0.0790852 ,\n",
       "          0.04620096,  0.15104678, -0.09058242,  0.06701356,  0.23485556],\n",
       "        [ 0.05541363, -0.13370793, -0.12128355, -0.27084675,  0.05279917,\n",
       "          0.0037123 , -0.276084  , -0.22909838, -0.1741263 , -0.03345174],\n",
       "        [ 0.25538883,  0.2291626 ,  0.01313329,  0.26416114, -0.06322794,\n",
       "         -0.11789697,  0.14496896, -0.00164127, -0.14747311,  0.23741862],\n",
       "        [ 0.10315385, -0.02311975, -0.22360568,  0.06174958, -0.00755015,\n",
       "          0.20672038, -0.251796  ,  0.06498811, -0.20827904,  0.24804041],\n",
       "        [-0.1682232 , -0.21112639, -0.14549911,  0.09083185, -0.14486285,\n",
       "          0.09129253, -0.18399546,  0.07774311,  0.11999875, -0.05563299],\n",
       "        [ 0.15205264, -0.10839848,  0.03605881, -0.08137429, -0.27207503,\n",
       "         -0.12129068, -0.01566362,  0.18042988, -0.2673546 , -0.14652294],\n",
       "        [ 0.19297582,  0.21255958,  0.03140032, -0.13770911, -0.01762441,\n",
       "         -0.05443013,  0.05988869,  0.14570719, -0.2139773 ,  0.2423093 ],\n",
       "        [-0.2628569 ,  0.14308864, -0.16457349, -0.2724201 , -0.05451682,\n",
       "          0.03811088, -0.05800401,  0.1676634 ,  0.06755796,  0.2594693 ],\n",
       "        [-0.19007847,  0.13596597, -0.15346792, -0.14035474, -0.15491702,\n",
       "         -0.19778821,  0.20829529,  0.18032327,  0.01505616,  0.20662636],\n",
       "        [-0.23377058, -0.16177762, -0.1494696 , -0.14780462, -0.1634242 ,\n",
       "          0.04996106, -0.27933827,  0.20135441,  0.22934422, -0.04286128],\n",
       "        [ 0.03528127,  0.00725815, -0.09982666,  0.21728507, -0.16212371,\n",
       "         -0.1390117 , -0.05920924, -0.07091007, -0.26041386,  0.24678513],\n",
       "        [-0.08035778, -0.27797517, -0.10947987, -0.24166377,  0.27562752,\n",
       "         -0.04131389,  0.2620367 ,  0.11558244, -0.014999  , -0.08811316],\n",
       "        [ 0.18806472,  0.22367689, -0.21690524, -0.13779207,  0.15005329,\n",
       "          0.27172235, -0.11327013, -0.08499303, -0.07221714, -0.0961348 ],\n",
       "        [ 0.1488491 , -0.03105482, -0.17070761, -0.13886546, -0.20935291,\n",
       "         -0.17214388, -0.10978131, -0.05369619,  0.24997696,  0.03433666]],\n",
       "       dtype=float32)>,\n",
       " <tf.Variable 'dense_1/bias:0' shape=(10,) dtype=float32, numpy=array([0., 0., 0., 0., 0., 0., 0., 0., 0., 0.], dtype=float32)>]"
      ]
     },
     "execution_count": 4,
     "metadata": {},
     "output_type": "execute_result"
    }
   ],
   "source": [
    "# sequential은 모델의 가중치를 층을 호출할 때 만들지 못한다. 입력 크기가 제공되지 않기 때문\n",
    "# 따라서 build메서드를 호출하여 입력 크기를 지정하여 호출해야 한다.\n",
    "\n",
    "model.build(input_shape = (None, 3))\n",
    "model.weights"
   ]
  },
  {
   "cell_type": "code",
   "execution_count": 5,
   "id": "bea0a135",
   "metadata": {},
   "outputs": [
    {
     "name": "stdout",
     "output_type": "stream",
     "text": [
      "Model: \"sequential\"\n",
      "_________________________________________________________________\n",
      " Layer (type)                Output Shape              Param #   \n",
      "=================================================================\n",
      " dense (Dense)               multiple                  256       \n",
      "                                                                 \n",
      " dense_1 (Dense)             multiple                  650       \n",
      "                                                                 \n",
      "=================================================================\n",
      "Total params: 906\n",
      "Trainable params: 906\n",
      "Non-trainable params: 0\n",
      "_________________________________________________________________\n"
     ]
    }
   ],
   "source": [
    "# 모델 구조 출력 : summary() <- 모델의 build()메서드를 호출해야 만들어낼 수 있다.\n",
    "\n",
    "model.summary()"
   ]
  },
  {
   "cell_type": "code",
   "execution_count": 7,
   "id": "bdf501e8",
   "metadata": {},
   "outputs": [
    {
     "name": "stdout",
     "output_type": "stream",
     "text": [
      "Model: \"sequential_2\"\n",
      "_________________________________________________________________\n",
      " Layer (type)                Output Shape              Param #   \n",
      "=================================================================\n",
      " dense_2 (Dense)             (None, 64)                256       \n",
      "                                                                 \n",
      "=================================================================\n",
      "Total params: 256\n",
      "Trainable params: 256\n",
      "Non-trainable params: 0\n",
      "_________________________________________________________________\n"
     ]
    }
   ],
   "source": [
    "# build()메서드 호출 안하고 모델의 파라미터 크기 추정하는 법: input 클래스 사용\n",
    "\n",
    "model = keras.Sequential()\n",
    "#input클래스의 shape매개변수는 배치크기를 고려하지 않고, 샘플의 크기만 고려한다.\n",
    "model.add(keras.Input(shape = (3,)))\n",
    "model.add(layers.Dense(64, activation = 'relu'))\n",
    "\n",
    "model.summary()"
   ]
  },
  {
   "cell_type": "code",
   "execution_count": 8,
   "id": "8dd0af4c",
   "metadata": {},
   "outputs": [
    {
     "name": "stdout",
     "output_type": "stream",
     "text": [
      "Model: \"model\"\n",
      "__________________________________________________________________________________________________\n",
      " Layer (type)                   Output Shape         Param #     Connected to                     \n",
      "==================================================================================================\n",
      " title (InputLayer)             [(None, 10000)]      0           []                               \n",
      "                                                                                                  \n",
      " text_body (InputLayer)         [(None, 10000)]      0           []                               \n",
      "                                                                                                  \n",
      " tags (InputLayer)              [(None, 100)]        0           []                               \n",
      "                                                                                                  \n",
      " concatenate (Concatenate)      (None, 20100)        0           ['title[0][0]',                  \n",
      "                                                                  'text_body[0][0]',              \n",
      "                                                                  'tags[0][0]']                   \n",
      "                                                                                                  \n",
      " dense_3 (Dense)                (None, 64)           1286464     ['concatenate[0][0]']            \n",
      "                                                                                                  \n",
      " priority (Dense)               (None, 1)            65          ['dense_3[0][0]']                \n",
      "                                                                                                  \n",
      " department (Dense)             (None, 4)            260         ['dense_3[0][0]']                \n",
      "                                                                                                  \n",
      "==================================================================================================\n",
      "Total params: 1,286,789\n",
      "Trainable params: 1,286,789\n",
      "Non-trainable params: 0\n",
      "__________________________________________________________________________________________________\n"
     ]
    }
   ],
   "source": [
    "# functional api\n",
    "# 다중입력, 다중출력\n",
    "# input 객체 -> 층만들어 input객체의 입력으로 호출 -> 최종 출력을 얻고 입력과 최종출력을 model클래스에 전달하여 모델 객체 생성\n",
    "\n",
    "#다중입력, 다중출력 함수형 모델 예시\n",
    "vocabulary_size = 10000\n",
    "num_tags = 100\n",
    "num_departments = 4\n",
    "\n",
    "title = keras.Input(shape=(vocabulary_size,), name=\"title\")\n",
    "text_body = keras.Input(shape=(vocabulary_size,), name=\"text_body\")\n",
    "tags = keras.Input(shape=(num_tags,), name=\"tags\")\n",
    "\n",
    "features = layers.Concatenate()([title, text_body, tags])\n",
    "features = layers.Dense(64, activation=\"relu\")(features)\n",
    "\n",
    "priority = layers.Dense(1, activation=\"sigmoid\", name=\"priority\")(features)\n",
    "department = layers.Dense(num_departments, activation=\"softmax\", name=\"department\")(features)\n",
    "\n",
    "model = keras.Model(inputs=[title, text_body, tags], outputs=[priority, department])\n",
    "\n",
    "model.summary()"
   ]
  },
  {
   "cell_type": "markdown",
   "id": "0fc8f942",
   "metadata": {},
   "source": [
    "### functional api로 모델흥 훈련할 때는 입력과 출력 데이터의 리스트를 전달해줄 것!\n",
    "\n",
    "가령 위의 예시코드에서 title, text_body, tags의 입력 데이터가 있고 priority, department의 타겟 데이터가 있다고 가정하면  \n",
    "\n",
    "훈련은   \n",
    "**model.fit([title, text_body, tags], [priority, department])**  \n",
    "로 인자를 전달!\n",
    "\n",
    "**중요 포인트: 모델 클래스에 전달된 순서대로 리스트의 순서를 구성할 것!**"
   ]
  },
  {
   "cell_type": "code",
   "execution_count": 35,
   "id": "2f942f3f",
   "metadata": {},
   "outputs": [
    {
     "name": "stdout",
     "output_type": "stream",
     "text": [
      "You must install pydot (`pip install pydot`) and install graphviz (see instructions at https://graphviz.gitlab.io/download/) for plot_model to work.\n"
     ]
    }
   ],
   "source": [
    "#함수형 모델을 쓰면 좋은점: 그래프를 그려볼 수 있어 모델 구조를 직관적으로 이해할 수 있다.\n",
    "\n",
    "keras.utils.plot_model(model, \"ticket_classifier.png\", show_shapes = True)"
   ]
  },
  {
   "cell_type": "markdown",
   "id": "94fd9a26",
   "metadata": {},
   "source": [
    "오류가 났다... \n",
    "내용은 설치를 하면 already satisfied라고 하는데 해당 코드블럭을 실행하면 \n",
    "\"You must install pydot (`pip install pydot`) and install graphviz (see instructions at https://graphviz.gitlab.io/download/) for plot_model to work.\"\n",
    "\n",
    "해결해보자! -> 환경변수 설정 해봤는데 안됐다 ..."
   ]
  },
  {
   "cell_type": "code",
   "execution_count": 37,
   "id": "1d78cb48",
   "metadata": {},
   "outputs": [],
   "source": [
    "# subclassing model\n",
    "\n",
    "class myticketmodel(keras.Model):\n",
    "    def __init__(self, num_department):\n",
    "        super().__init__()\n",
    "        # 사용할 층을 정의\n",
    "        self.concat_layer = layers.Concatenate()\n",
    "        self.mixing_laye = layers.Dense(64, activation = 'relu')\n",
    "        self.priority_score = layers.Dense(1, activation = 'sigmoid')\n",
    "        self.department_classifier = layers.Dense(num_department, activation = 'softmax')\n",
    "        \n",
    "    def call(self, inputs):\n",
    "        #정방형 패스\n",
    "        title = inputs['title']\n",
    "        text_body = inputs['text_body']\n",
    "        tags = inputs['tags']\n",
    "        \n",
    "        features = self.concat_layer([title, text_body, tags])\n",
    "        features = self.mixing_layer(features)\n",
    "        priority = self.prioirity_score(features)\n",
    "        department = self.department_claasifier(features)\n",
    "        return priority, department\n",
    "\n",
    "model = myticketmodel(4)\n"
   ]
  },
  {
   "cell_type": "code",
   "execution_count": null,
   "id": "bcb4bcc2",
   "metadata": {},
   "outputs": [],
   "source": [
    "priority, department = model([title, text_body, tags (의ata)])"
   ]
  },
  {
   "cell_type": "code",
   "execution_count": null,
   "id": "42015983",
   "metadata": {},
   "outputs": [],
   "source": [
    "#모델을 상속받으면 fit,eval, pred가능하다\n",
    "\n",
    "model.compile(optimizer=\"rmsprop\",\n",
    "              loss=[\"mean_squared_error\", \"categorical_crossentropy\"],\n",
    "              metrics=[[\"mean_absolute_error\"], [\"accuracy\"]])\n",
    "model.fit({\"title\": title_data,\n",
    "           \"text_body\": text_body_data,\n",
    "           \"tags\": tags_data},\n",
    "          [priority_data, department_data],\n",
    "          epochs=1)\n",
    "model.evaluate({\"title\": title_data,\n",
    "                \"text_body\": text_body_data,\n",
    "                \"tags\": tags_data},\n",
    "               [priority_data, department_data])\n",
    "priority_preds, department_preds = model.predict({\"title\": title_data,\n",
    "                                                  \"text_body\": text_body_data,\n",
    "                                                  \"tags\": tags_data})"
   ]
  },
  {
   "cell_type": "code",
   "execution_count": 38,
   "id": "cdf824b9",
   "metadata": {},
   "outputs": [],
   "source": [
    "# 여러방식 혼합해서 사용하기 -> 3가지 방법이 상호 호환적이다.\n",
    "\n",
    "#혼합 예시1: 함수형 모델에서 서브클래싱 층이나 모델 사용하기\n",
    "class Classifier(keras.Model):\n",
    "\n",
    "    def __init__(self, num_classes=2):\n",
    "        super().__init__()\n",
    "        if num_classes == 2:\n",
    "            num_units = 1\n",
    "            activation = \"sigmoid\"\n",
    "        else:\n",
    "            num_units = num_classes\n",
    "            activation = \"softmax\"\n",
    "        self.dense = layers.Dense(num_units, activation=activation)\n",
    "\n",
    "    def call(self, inputs):\n",
    "        return self.dense(inputs)\n",
    "\n",
    "inputs = keras.Input(shape=(3,))\n",
    "\n",
    "features = layers.Dense(64, activation=\"relu\")(inputs)\n",
    "outputs = Classifier(num_classes=10)(features)\n",
    "model = keras.Model(inputs=inputs, outputs=outputs)"
   ]
  },
  {
   "cell_type": "code",
   "execution_count": 39,
   "id": "aabab396",
   "metadata": {},
   "outputs": [],
   "source": [
    "#혼합 예시2: 함수형 모델을 포함하는 subclassing 층이나 모델\n",
    "\n",
    "inputs = keras.Input(shape=(64,))\n",
    "outputs = layers.Dense(1, activation=\"sigmoid\")(inputs)\n",
    "binary_classifier = keras.Model(inputs=inputs, outputs=outputs)\n",
    "\n",
    "class MyModel(keras.Model):\n",
    "\n",
    "    def __init__(self, num_classes=2):\n",
    "        super().__init__()\n",
    "        self.dense = layers.Dense(64, activation=\"relu\")\n",
    "        self.classifier = binary_classifier\n",
    "\n",
    "    def call(self, inputs):\n",
    "        features = self.dense(inputs)\n",
    "        return self.classifier(features)\n",
    "\n",
    "model = MyModel()"
   ]
  },
  {
   "cell_type": "markdown",
   "id": "83feb154",
   "metadata": {},
   "source": [
    "## 내장된 훈련 루프 & 평가 루프\n",
    "\n",
    "fit() / compile() / evaluate() / predict() 워크플로 사용\n",
    "\n",
    "-> 이를 커스터 마이징 할 수 있다."
   ]
  },
  {
   "cell_type": "code",
   "execution_count": 45,
   "id": "b5994ddf",
   "metadata": {},
   "outputs": [],
   "source": [
    "# 커스터 마이징 1. 사용자 정의 지표 만들기\n",
    "# 즉, metrics을 우리가 새로 정의해서 적용해보자!\n",
    "\n",
    "#metric 클래스 상속하여 사용자 정의 지표 구현 예시\n",
    "\n",
    "import tensorflow as tf\n",
    "\n",
    "class RMSE(keras.metrics.Metric):\n",
    "    def __init__(self, name = 'rmse', **kwargs):\n",
    "        super().__init__(name, **kwargs)\n",
    "        self.mse_sum = self.add_weight(name = 'mse_sum', initializer = 'zeros')\n",
    "        self.total_samples = self.add_weight(name = 'total_sample', initializer = 'zeros', dtype = \"int32\")\n",
    "    \n",
    "    \n",
    "    # update_state메서드로 상태 업데이트 로직을 구현.\n",
    "    def update_state(self, y_true, y_pred, sample_weight= None):\n",
    "        y_true = tf.one_hot(y_true, depth = tf.shape(y_pred)[1])\n",
    "        mse = tf.reduce_sum(tf.square(y_true - y_pred))\n",
    "        self.mse_sum.assign_add(mse)\n",
    "        num_samples = tf.shape(y_pred)[0]\n",
    "        self.total_samples.assign_add(num_samples)\n",
    "    \n",
    "    #현재 지표 값을 반환.\n",
    "    def result(self):\n",
    "        return tf.sqrt(self.mse_sum / tf.cast(self.total_samples, tf.float32))\n",
    "\n",
    "    #객체를 다시 새로 생성하지 않으면서 상태를 초기화\n",
    "    def reset_state(self):\n",
    "        self.mse_sum.assign(0.)\n",
    "        self.total_samples.assign(0)"
   ]
  },
  {
   "cell_type": "code",
   "execution_count": 46,
   "id": "6446632a",
   "metadata": {},
   "outputs": [
    {
     "name": "stdout",
     "output_type": "stream",
     "text": [
      "Epoch 1/3\n"
     ]
    },
    {
     "name": "stderr",
     "output_type": "stream",
     "text": [
      "loc(\"mps_select\"(\"(mpsFileLoc): /AppleInternal/Library/BuildRoots/75428952-3aa4-11ee-8b65-46d450270006/Library/Caches/com.apple.xbs/Sources/MetalPerformanceShadersGraph/mpsgraph/MetalPerformanceShadersGraph/Core/Files/MPSGraphUtilities.mm\":294:0)): error: 'anec.gain_offset_control' op result #0 must be 4D/5D memref of 16-bit float or 8-bit signed integer or 8-bit unsigned integer values, but got 'memref<1x32x1x512xi1>'\n",
      "loc(\"mps_select\"(\"(mpsFileLoc): /AppleInternal/Library/BuildRoots/75428952-3aa4-11ee-8b65-46d450270006/Library/Caches/com.apple.xbs/Sources/MetalPerformanceShadersGraph/mpsgraph/MetalPerformanceShadersGraph/Core/Files/MPSGraphUtilities.mm\":294:0)): error: 'anec.gain_offset_control' op result #0 must be 4D/5D memref of 16-bit float or 8-bit signed integer or 8-bit unsigned integer values, but got 'memref<1x32x1x512xi1>'\n"
     ]
    },
    {
     "name": "stdout",
     "output_type": "stream",
     "text": [
      "1562/1563 [============================>.] - ETA: 0s - loss: 0.2863 - accuracy: 0.9150 - rmse: 7.1964"
     ]
    },
    {
     "name": "stderr",
     "output_type": "stream",
     "text": [
      "loc(\"mps_select\"(\"(mpsFileLoc): /AppleInternal/Library/BuildRoots/75428952-3aa4-11ee-8b65-46d450270006/Library/Caches/com.apple.xbs/Sources/MetalPerformanceShadersGraph/mpsgraph/MetalPerformanceShadersGraph/Core/Files/MPSGraphUtilities.mm\":294:0)): error: 'anec.gain_offset_control' op result #0 must be 4D/5D memref of 16-bit float or 8-bit signed integer or 8-bit unsigned integer values, but got 'memref<1x16x1x512xi1>'\n"
     ]
    },
    {
     "name": "stdout",
     "output_type": "stream",
     "text": [
      "\b\b\b\b\b\b\b\b\b\b\b\b\b\b\b\b\b\b\b\b\b\b\b\b\b\b\b\b\b\b\b\b\b\b\b\b\b\b\b\b\b\b\b\b\b\b\b\b\b\b\b\b\b\b\b\b\b\b\b\b\b\b\b\b\b\b\b\b\b\b\b\b\b\b\b\b\b\b\b\b\b\b\b\b\b\b\b\b\b\b\b\b\b\b\b\b\b\b\b\b\b\r",
      "1563/1563 [==============================] - ETA: 0s - loss: 0.2862 - accuracy: 0.9150 - rmse: 7.1958"
     ]
    },
    {
     "name": "stderr",
     "output_type": "stream",
     "text": [
      "loc(\"mps_select\"(\"(mpsFileLoc): /AppleInternal/Library/BuildRoots/75428952-3aa4-11ee-8b65-46d450270006/Library/Caches/com.apple.xbs/Sources/MetalPerformanceShadersGraph/mpsgraph/MetalPerformanceShadersGraph/Core/Files/MPSGraphUtilities.mm\":294:0)): error: 'anec.gain_offset_control' op result #0 must be 4D/5D memref of 16-bit float or 8-bit signed integer or 8-bit unsigned integer values, but got 'memref<1x16x1x512xi1>'\n"
     ]
    },
    {
     "name": "stdout",
     "output_type": "stream",
     "text": [
      "1563/1563 [==============================] - 21s 12ms/step - loss: 0.2862 - accuracy: 0.9150 - rmse: 7.1958 - val_loss: 0.1519 - val_accuracy: 0.9567 - val_rmse: 7.3626\n",
      "Epoch 2/3\n",
      "1563/1563 [==============================] - 16s 10ms/step - loss: 0.1553 - accuracy: 0.9570 - rmse: 7.3629 - val_loss: 0.1241 - val_accuracy: 0.9666 - val_rmse: 7.4079\n",
      "Epoch 3/3\n",
      "1563/1563 [==============================] - 16s 10ms/step - loss: 0.1276 - accuracy: 0.9658 - rmse: 7.3978 - val_loss: 0.1258 - val_accuracy: 0.9682 - val_rmse: 7.4203\n",
      "313/313 [==============================] - 2s 6ms/step - loss: 0.1225 - accuracy: 0.9683 - rmse: 7.4336\n"
     ]
    }
   ],
   "source": [
    "# 사용자 정의 지표 사용하기\n",
    "from tensorflow.keras.datasets import mnist\n",
    "\n",
    "def get_mnist_model():\n",
    "    inputs = keras.Input(shape=(28 * 28,))\n",
    "    features = layers.Dense(512, activation=\"relu\")(inputs)\n",
    "    features = layers.Dropout(0.5)(features)\n",
    "    outputs = layers.Dense(10, activation=\"softmax\")(features)\n",
    "    model = keras.Model(inputs, outputs)\n",
    "    return model\n",
    "\n",
    "(images, labels), (test_images, test_labels) = mnist.load_data()\n",
    "images = images.reshape((60000, 28 * 28)).astype(\"float32\") / 255\n",
    "test_images = test_images.reshape((10000, 28 * 28)).astype(\"float32\") / 255\n",
    "train_images, val_images = images[10000:], images[:10000]\n",
    "train_labels, val_labels = labels[10000:], labels[:10000]\n",
    "\n",
    "model = get_mnist_model()\n",
    "model.compile(optimizer=\"rmsprop\",\n",
    "              loss=\"sparse_categorical_crossentropy\",\n",
    "              metrics=[\"accuracy\", RMSE()])\n",
    "\n",
    "model.fit(train_images, train_labels,\n",
    "          epochs=3,\n",
    "          validation_data=(val_images, val_labels))\n",
    "\n",
    "test_metrics = model.evaluate(test_images, test_labels)"
   ]
  },
  {
   "cell_type": "code",
   "execution_count": 47,
   "id": "26deb079",
   "metadata": {},
   "outputs": [
    {
     "name": "stdout",
     "output_type": "stream",
     "text": [
      "Epoch 1/10\n"
     ]
    },
    {
     "name": "stderr",
     "output_type": "stream",
     "text": [
      "loc(\"mps_select\"(\"(mpsFileLoc): /AppleInternal/Library/BuildRoots/75428952-3aa4-11ee-8b65-46d450270006/Library/Caches/com.apple.xbs/Sources/MetalPerformanceShadersGraph/mpsgraph/MetalPerformanceShadersGraph/Core/Files/MPSGraphUtilities.mm\":294:0)): error: 'anec.gain_offset_control' op result #0 must be 4D/5D memref of 16-bit float or 8-bit signed integer or 8-bit unsigned integer values, but got 'memref<1x32x1x512xi1>'\n",
      "loc(\"mps_select\"(\"(mpsFileLoc): /AppleInternal/Library/BuildRoots/75428952-3aa4-11ee-8b65-46d450270006/Library/Caches/com.apple.xbs/Sources/MetalPerformanceShadersGraph/mpsgraph/MetalPerformanceShadersGraph/Core/Files/MPSGraphUtilities.mm\":294:0)): error: 'anec.gain_offset_control' op result #0 must be 4D/5D memref of 16-bit float or 8-bit signed integer or 8-bit unsigned integer values, but got 'memref<1x32x1x512xi1>'\n"
     ]
    },
    {
     "name": "stdout",
     "output_type": "stream",
     "text": [
      "1562/1563 [============================>.] - ETA: 0s - loss: 0.2804 - accuracy: 0.9179"
     ]
    },
    {
     "name": "stderr",
     "output_type": "stream",
     "text": [
      "loc(\"mps_select\"(\"(mpsFileLoc): /AppleInternal/Library/BuildRoots/75428952-3aa4-11ee-8b65-46d450270006/Library/Caches/com.apple.xbs/Sources/MetalPerformanceShadersGraph/mpsgraph/MetalPerformanceShadersGraph/Core/Files/MPSGraphUtilities.mm\":294:0)): error: 'anec.gain_offset_control' op result #0 must be 4D/5D memref of 16-bit float or 8-bit signed integer or 8-bit unsigned integer values, but got 'memref<1x16x1x512xi1>'\n"
     ]
    },
    {
     "name": "stdout",
     "output_type": "stream",
     "text": [
      "\b\b\b\b\b\b\b\b\b\b\b\b\b\b\b\b\b\b\b\b\b\b\b\b\b\b\b\b\b\b\b\b\b\b\b\b\b\b\b\b\b\b\b\b\b\b\b\b\b\b\b\b\b\b\b\b\b\b\b\b\b\b\b\b\b\b\b\b\b\b\b\b\b\b\b\b\b\b\b\b\b\b\b\b\b\b\r",
      "1563/1563 [==============================] - ETA: 0s - loss: 0.2803 - accuracy: 0.9179"
     ]
    },
    {
     "name": "stderr",
     "output_type": "stream",
     "text": [
      "loc(\"mps_select\"(\"(mpsFileLoc): /AppleInternal/Library/BuildRoots/75428952-3aa4-11ee-8b65-46d450270006/Library/Caches/com.apple.xbs/Sources/MetalPerformanceShadersGraph/mpsgraph/MetalPerformanceShadersGraph/Core/Files/MPSGraphUtilities.mm\":294:0)): error: 'anec.gain_offset_control' op result #0 must be 4D/5D memref of 16-bit float or 8-bit signed integer or 8-bit unsigned integer values, but got 'memref<1x16x1x512xi1>'\n"
     ]
    },
    {
     "name": "stdout",
     "output_type": "stream",
     "text": [
      "1563/1563 [==============================] - 19s 11ms/step - loss: 0.2803 - accuracy: 0.9179 - val_loss: 0.1658 - val_accuracy: 0.9531\n",
      "Epoch 2/10\n",
      "1563/1563 [==============================] - 15s 9ms/step - loss: 0.1550 - accuracy: 0.9564 - val_loss: 0.1359 - val_accuracy: 0.9633\n",
      "Epoch 3/10\n",
      "1563/1563 [==============================] - 15s 9ms/step - loss: 0.1240 - accuracy: 0.9680 - val_loss: 0.1250 - val_accuracy: 0.9698\n",
      "Epoch 4/10\n",
      "1563/1563 [==============================] - 14s 9ms/step - loss: 0.1105 - accuracy: 0.9707 - val_loss: 0.1183 - val_accuracy: 0.9709\n",
      "Epoch 5/10\n",
      "1563/1563 [==============================] - 15s 9ms/step - loss: 0.1030 - accuracy: 0.9742 - val_loss: 0.1174 - val_accuracy: 0.9731\n",
      "Epoch 6/10\n",
      "1563/1563 [==============================] - 15s 9ms/step - loss: 0.0956 - accuracy: 0.9773 - val_loss: 0.1070 - val_accuracy: 0.9754\n",
      "Epoch 7/10\n",
      "1563/1563 [==============================] - 15s 9ms/step - loss: 0.0890 - accuracy: 0.9784 - val_loss: 0.1177 - val_accuracy: 0.9751\n",
      "Epoch 8/10\n",
      "1563/1563 [==============================] - 14s 9ms/step - loss: 0.0864 - accuracy: 0.9793 - val_loss: 0.1180 - val_accuracy: 0.9757\n",
      "Epoch 9/10\n",
      "1563/1563 [==============================] - 15s 9ms/step - loss: 0.0800 - accuracy: 0.9817 - val_loss: 0.1159 - val_accuracy: 0.9769\n",
      "Epoch 10/10\n",
      "1563/1563 [==============================] - 14s 9ms/step - loss: 0.0795 - accuracy: 0.9821 - val_loss: 0.1292 - val_accuracy: 0.9758\n"
     ]
    },
    {
     "data": {
      "text/plain": [
       "<keras.callbacks.History at 0x2ac8a0cd0>"
      ]
     },
     "execution_count": 47,
     "metadata": {},
     "output_type": "execute_result"
    }
   ],
   "source": [
    "# modelcheckpoint + earlystopping callback 사용 => 최적의 에포크 횟수로 학습\n",
    "\n",
    "#fit메서드의 callback 매개변수 사용.\n",
    "callbacks_list = [\n",
    "    keras.callbacks.EarlyStopping(\n",
    "        monitor=\"val_accuracy\",\n",
    "        patience=2,\n",
    "    ),\n",
    "    keras.callbacks.ModelCheckpoint(\n",
    "        filepath=\"checkpoint_path.keras\",\n",
    "        monitor=\"val_loss\",\n",
    "        save_best_only=True,\n",
    "    )\n",
    "]\n",
    "model = get_mnist_model()\n",
    "model.compile(optimizer=\"rmsprop\",\n",
    "              loss=\"sparse_categorical_crossentropy\",\n",
    "              metrics=[\"accuracy\"])\n",
    "model.fit(train_images, train_labels,\n",
    "          epochs=10,\n",
    "          callbacks=callbacks_list,\n",
    "          validation_data=(val_images, val_labels))"
   ]
  },
  {
   "cell_type": "code",
   "execution_count": null,
   "id": "d0e6f6f0",
   "metadata": {},
   "outputs": [],
   "source": [
    "# 저장한 모델 호출하기\n",
    "\n",
    "#modelcheckpoint의 매개변수로 저장한 파일 이름으로 불러온다.\n",
    "best_model = keras.models.load_model('checkpoint_path.keras')"
   ]
  },
  {
   "cell_type": "code",
   "execution_count": null,
   "id": "67b7eb91",
   "metadata": {},
   "outputs": [],
   "source": [
    "# 사용자 정의 콜백 만들기\n",
    "\n",
    "from matplotlib import pyplot as plt\n",
    "\n",
    "class LossHistory(keras.callbacks.Callback):\n",
    "    def on_train_begin(self, logs):\n",
    "        self.per_batch_losses = []\n",
    "\n",
    "    def on_batch_end(self, batch, logs):\n",
    "        self.per_batch_losses.append(logs.get(\"loss\"))\n",
    "\n",
    "    def on_epoch_end(self, epoch, logs):\n",
    "        plt.clf()\n",
    "        plt.plot(range(len(self.per_batch_losses)), self.per_batch_losses,\n",
    "                 label=\"Training loss for each batch\")\n",
    "        plt.xlabel(f\"Batch (epoch {epoch})\")\n",
    "        plt.ylabel(\"Loss\")\n",
    "        plt.legend()\n",
    "        plt.savefig(f\"plot_at_epoch_{epoch}\")\n",
    "        self.per_batch_losses = []"
   ]
  },
  {
   "cell_type": "markdown",
   "id": "ac40a56c",
   "metadata": {},
   "source": [
    "## 텐서보드 사용 -> 훈련하는 동안 모델에서 일어나는 것들을 모니터링해보자\n",
    "\n",
    "fit()메서드에 keras.callbacks.TensorBoard 콜백을 사용."
   ]
  },
  {
   "cell_type": "code",
   "execution_count": 48,
   "id": "b600abed",
   "metadata": {},
   "outputs": [
    {
     "name": "stdout",
     "output_type": "stream",
     "text": [
      "Epoch 1/10\n"
     ]
    },
    {
     "name": "stderr",
     "output_type": "stream",
     "text": [
      "loc(\"mps_select\"(\"(mpsFileLoc): /AppleInternal/Library/BuildRoots/75428952-3aa4-11ee-8b65-46d450270006/Library/Caches/com.apple.xbs/Sources/MetalPerformanceShadersGraph/mpsgraph/MetalPerformanceShadersGraph/Core/Files/MPSGraphUtilities.mm\":294:0)): error: 'anec.gain_offset_control' op result #0 must be 4D/5D memref of 16-bit float or 8-bit signed integer or 8-bit unsigned integer values, but got 'memref<1x32x1x512xi1>'\n",
      "loc(\"mps_select\"(\"(mpsFileLoc): /AppleInternal/Library/BuildRoots/75428952-3aa4-11ee-8b65-46d450270006/Library/Caches/com.apple.xbs/Sources/MetalPerformanceShadersGraph/mpsgraph/MetalPerformanceShadersGraph/Core/Files/MPSGraphUtilities.mm\":294:0)): error: 'anec.gain_offset_control' op result #0 must be 4D/5D memref of 16-bit float or 8-bit signed integer or 8-bit unsigned integer values, but got 'memref<1x32x1x512xi1>'\n"
     ]
    },
    {
     "name": "stdout",
     "output_type": "stream",
     "text": [
      "1558/1563 [============================>.] - ETA: 0s - loss: 0.2865 - accuracy: 0.9160"
     ]
    },
    {
     "name": "stderr",
     "output_type": "stream",
     "text": [
      "loc(\"mps_select\"(\"(mpsFileLoc): /AppleInternal/Library/BuildRoots/75428952-3aa4-11ee-8b65-46d450270006/Library/Caches/com.apple.xbs/Sources/MetalPerformanceShadersGraph/mpsgraph/MetalPerformanceShadersGraph/Core/Files/MPSGraphUtilities.mm\":294:0)): error: 'anec.gain_offset_control' op result #0 must be 4D/5D memref of 16-bit float or 8-bit signed integer or 8-bit unsigned integer values, but got 'memref<1x16x1x512xi1>'\n"
     ]
    },
    {
     "name": "stdout",
     "output_type": "stream",
     "text": [
      "\b\b\b\b\b\b\b\b\b\b\b\b\b\b\b\b\b\b\b\b\b\b\b\b\b\b\b\b\b\b\b\b\b\b\b\b\b\b\b\b\b\b\b\b\b\b\b\b\b\b\b\b\b\b\b\b\b\b\b\b\b\b\b\b\b\b\b\b\b\b\b\b\b\b\b\b\b\b\b\b\b\b\b\b\b\b\r",
      "1563/1563 [==============================] - ETA: 0s - loss: 0.2861 - accuracy: 0.9161"
     ]
    },
    {
     "name": "stderr",
     "output_type": "stream",
     "text": [
      "loc(\"mps_select\"(\"(mpsFileLoc): /AppleInternal/Library/BuildRoots/75428952-3aa4-11ee-8b65-46d450270006/Library/Caches/com.apple.xbs/Sources/MetalPerformanceShadersGraph/mpsgraph/MetalPerformanceShadersGraph/Core/Files/MPSGraphUtilities.mm\":294:0)): error: 'anec.gain_offset_control' op result #0 must be 4D/5D memref of 16-bit float or 8-bit signed integer or 8-bit unsigned integer values, but got 'memref<1x16x1x512xi1>'\n"
     ]
    },
    {
     "name": "stdout",
     "output_type": "stream",
     "text": [
      "1563/1563 [==============================] - 19s 11ms/step - loss: 0.2861 - accuracy: 0.9161 - val_loss: 0.1538 - val_accuracy: 0.9559\n",
      "Epoch 2/10\n",
      "1563/1563 [==============================] - 15s 9ms/step - loss: 0.1578 - accuracy: 0.9554 - val_loss: 0.1243 - val_accuracy: 0.9648\n",
      "Epoch 3/10\n",
      "1563/1563 [==============================] - 15s 9ms/step - loss: 0.1278 - accuracy: 0.9657 - val_loss: 0.1333 - val_accuracy: 0.9677\n",
      "Epoch 4/10\n",
      "1563/1563 [==============================] - 15s 9ms/step - loss: 0.1113 - accuracy: 0.9709 - val_loss: 0.1241 - val_accuracy: 0.9706\n",
      "Epoch 5/10\n",
      "1563/1563 [==============================] - 15s 10ms/step - loss: 0.1047 - accuracy: 0.9741 - val_loss: 0.1136 - val_accuracy: 0.9729\n",
      "Epoch 6/10\n",
      "1563/1563 [==============================] - 15s 9ms/step - loss: 0.0946 - accuracy: 0.9758 - val_loss: 0.1206 - val_accuracy: 0.9751\n",
      "Epoch 7/10\n",
      "1563/1563 [==============================] - 15s 10ms/step - loss: 0.0916 - accuracy: 0.9784 - val_loss: 0.1180 - val_accuracy: 0.9741\n",
      "Epoch 8/10\n",
      "1563/1563 [==============================] - 15s 9ms/step - loss: 0.0826 - accuracy: 0.9796 - val_loss: 0.1171 - val_accuracy: 0.9765\n",
      "Epoch 9/10\n",
      "1563/1563 [==============================] - 15s 10ms/step - loss: 0.0801 - accuracy: 0.9811 - val_loss: 0.1262 - val_accuracy: 0.9756\n",
      "Epoch 10/10\n",
      "1563/1563 [==============================] - 15s 10ms/step - loss: 0.0781 - accuracy: 0.9820 - val_loss: 0.1507 - val_accuracy: 0.9730\n"
     ]
    },
    {
     "data": {
      "text/plain": [
       "<keras.callbacks.History at 0x2e9d9db10>"
      ]
     },
     "execution_count": 48,
     "metadata": {},
     "output_type": "execute_result"
    }
   ],
   "source": [
    "# 예시\n",
    "\n",
    "model = get_mnist_model()\n",
    "model.compile(optimizer=\"rmsprop\",\n",
    "              loss=\"sparse_categorical_crossentropy\",\n",
    "              metrics=[\"accuracy\"])\n",
    "\n",
    "tensorboard = keras.callbacks.TensorBoard(\n",
    "    log_dir=\"./tb_logs\",\n",
    ")\n",
    "\n",
    "model.fit(train_images, train_labels,\n",
    "          epochs=10,\n",
    "          validation_data=(val_images, val_labels),\n",
    "          callbacks=[tensorboard])"
   ]
  },
  {
   "cell_type": "code",
   "execution_count": null,
   "id": "b6d9827f",
   "metadata": {},
   "outputs": [],
   "source": [
    "# 텐서보드 실행시켜서 나오는 url클릭해서 모니터링 !\n",
    "\n",
    "!tensorboard --logdir ./tb_logs"
   ]
  },
  {
   "cell_type": "markdown",
   "id": "c53e76a5",
   "metadata": {},
   "source": [
    "## 사용자 정의 훈련 + 평가 루프 만들기\n",
    "\n",
    "model.fit()메서드를 활용하면 사용자 정의 손실, 지표, 콜백을 지정하여 보다 유연하게 \n",
    "모델 학습을 할 수 있었다.\n",
    "\n",
    "다만, 이는 지도 학습에만 초점이 맞춰져있기 때문에, 생성학습, 자기지도학습, 강화학습 등에서 모델을   \n",
    "학습하고 평가하기 위해서는 저수준의 유연하게 동작하도록 기능을 추가하는 작업이 필요하다.  \n",
    "이 때 일반적으로 포함되어야 하는 내용은 다음과 같다.   \n",
    "\n",
    "#### 1. gradientTape에서 정방향 패스 -> 손실 값 측정\n",
    "#### 2. 모델 가중치에 대한 손실의 gradient 계산\n",
    "#### 3. 현재 배치 데이터에 대한 손실 값을 낮추는 방향으로 모델 가중치를 업데이트\n"
   ]
  },
  {
   "cell_type": "code",
   "execution_count": 2,
   "id": "353add1a",
   "metadata": {},
   "outputs": [
    {
     "name": "stdout",
     "output_type": "stream",
     "text": [
      "Metal device set to: Apple M1\n",
      "결과: 1.00\n",
      "평균 지표: 2.00\n"
     ]
    }
   ],
   "source": [
    "#저수준 측정 지표 예시\n",
    "from tensorflow import keras\n",
    "\n",
    "metric = keras.metrics.SparseCategoricalAccuracy()\n",
    "targets = [0, 1, 2]\n",
    "predictions = [[1, 0, 0], [0, 1, 0], [0, 0, 1]]\n",
    "metric.update_state(targets, predictions)\n",
    "current_result = metric.result()\n",
    "print(f\"결과: {current_result:.2f}\")\n",
    "\n",
    "values = [0, 1, 2, 3, 4]\n",
    "mean_tracker = keras.metrics.Mean()\n",
    "for value in values:\n",
    "    mean_tracker.update_state(value)\n",
    "print(f\"평균 지표: {mean_tracker.result():.2f}\")"
   ]
  },
  {
   "cell_type": "code",
   "execution_count": 5,
   "id": "cef72a12",
   "metadata": {},
   "outputs": [],
   "source": [
    "#훈련 루프 구성하기\n",
    "from tensorflow.keras.datasets import mnist\n",
    "\n",
    "#모델 구성\n",
    "def get_mnist_model():\n",
    "    inputs = keras.Input(shape=(28 * 28,))\n",
    "    features = keras.layers.Dense(512, activation=\"relu\")(inputs)\n",
    "    features = keras.layers.Dropout(0.5)(features)\n",
    "    outputs = keras.layers.Dense(10, activation=\"softmax\")(features)\n",
    "    model = keras.Model(inputs, outputs)\n",
    "    return model\n",
    "\n",
    "\n",
    "#모델 정의\n",
    "model = get_mnist_model()\n",
    "\n",
    "loss_fn = keras.losses.SparseCategoricalCrossentropy()\n",
    "optimizer = keras.optimizers.legacy.RMSprop()\n",
    "metrics = [keras.metrics.SparseCategoricalAccuracy()]\n",
    "loss_tracking_metric = keras.metrics.Mean()\n",
    "\n",
    "def train_step(inputs, targets):\n",
    "    with tf.GradientTape() as tape:\n",
    "        predictions = model(inputs, training=True)\n",
    "        loss = loss_fn(targets, predictions)\n",
    "    gradients = tape.gradient(loss, model.trainable_weights)\n",
    "    optimizer.apply_gradients(zip(gradients, model.trainable_weights))\n",
    "\n",
    "    logs = {}\n",
    "    for metric in metrics:\n",
    "        metric.update_state(targets, predictions)\n",
    "        logs[metric.name] = metric.result()\n",
    "\n",
    "    loss_tracking_metric.update_state(loss)\n",
    "    logs[\"loss\"] = loss_tracking_metric.result()\n",
    "    return logs\n",
    "\n",
    "def reset_metrics():\n",
    "    for metric in metrics:\n",
    "        metric.reset_state()\n",
    "    loss_tracking_metric.reset_state()\n"
   ]
  },
  {
   "cell_type": "code",
   "execution_count": 7,
   "id": "a8619fd4",
   "metadata": {},
   "outputs": [
    {
     "name": "stderr",
     "output_type": "stream",
     "text": [
      "loc(\"mps_select\"(\"(mpsFileLoc): /AppleInternal/Library/BuildRoots/75428952-3aa4-11ee-8b65-46d450270006/Library/Caches/com.apple.xbs/Sources/MetalPerformanceShadersGraph/mpsgraph/MetalPerformanceShadersGraph/Core/Files/MPSGraphUtilities.mm\":294:0)): error: 'anec.gain_offset_control' op result #0 must be 4D/5D memref of 16-bit float or 8-bit signed integer or 8-bit unsigned integer values, but got 'memref<1x32x1x512xi1>'\n",
      "loc(\"mps_select\"(\"(mpsFileLoc): /AppleInternal/Library/BuildRoots/75428952-3aa4-11ee-8b65-46d450270006/Library/Caches/com.apple.xbs/Sources/MetalPerformanceShadersGraph/mpsgraph/MetalPerformanceShadersGraph/Core/Files/MPSGraphUtilities.mm\":294:0)): error: 'anec.gain_offset_control' op result #0 must be 4D/5D memref of 16-bit float or 8-bit signed integer or 8-bit unsigned integer values, but got 'memref<1x32x1x512xi1>'\n",
      "loc(\"mps_select\"(\"(mpsFileLoc): /AppleInternal/Library/BuildRoots/75428952-3aa4-11ee-8b65-46d450270006/Library/Caches/com.apple.xbs/Sources/MetalPerformanceShadersGraph/mpsgraph/MetalPerformanceShadersGraph/Core/Files/MPSGraphUtilities.mm\":294:0)): error: 'anec.gain_offset_control' op result #0 must be 4D/5D memref of 16-bit float or 8-bit signed integer or 8-bit unsigned integer values, but got 'memref<1x16x1x512xi1>'\n",
      "loc(\"mps_select\"(\"(mpsFileLoc): /AppleInternal/Library/BuildRoots/75428952-3aa4-11ee-8b65-46d450270006/Library/Caches/com.apple.xbs/Sources/MetalPerformanceShadersGraph/mpsgraph/MetalPerformanceShadersGraph/Core/Files/MPSGraphUtilities.mm\":294:0)): error: 'anec.gain_offset_control' op result #0 must be 4D/5D memref of 16-bit float or 8-bit signed integer or 8-bit unsigned integer values, but got 'memref<1x16x1x512xi1>'\n"
     ]
    },
    {
     "name": "stdout",
     "output_type": "stream",
     "text": [
      "0번째 에포크 결과\n",
      "...sparse_categorical_accuracy: 0.9179\n",
      "...loss: 0.2775\n",
      "1번째 에포크 결과\n",
      "...sparse_categorical_accuracy: 0.9654\n",
      "...loss: 0.1246\n",
      "2번째 에포크 결과\n",
      "...sparse_categorical_accuracy: 0.9802\n",
      "...loss: 0.0788\n"
     ]
    }
   ],
   "source": [
    "import tensorflow as tf\n",
    "\n",
    "#데이터 준비\n",
    "(images, labels), (test_images, test_labels) = mnist.load_data()\n",
    "images = images.reshape((60000, 28 * 28)).astype(\"float32\") / 255\n",
    "test_images = test_images.reshape((10000, 28 * 28)).astype(\"float32\") / 255\n",
    "train_images, val_images = images[10000:], images[:10000]\n",
    "train_labels, val_labels = labels[10000:], labels[:10000]\n",
    "\n",
    "#dataset tensor\n",
    "training_dataset = tf.data.Dataset.from_tensor_slices((train_images, train_labels))\n",
    "training_dataset = training_dataset.batch(32)\n",
    "\n",
    "# 훈련 루프\n",
    "epochs = 3\n",
    "for epoch in range(epochs):\n",
    "    reset_metrics()\n",
    "    for inputs_batch, targets_batch in training_dataset:\n",
    "        logs = train_step(inputs_batch, targets_batch)\n",
    "    print(f\"{epoch}번째 에포크 결과\")\n",
    "    for key, value in logs.items():\n",
    "        print(f\"...{key}: {value:.4f}\")"
   ]
  },
  {
   "cell_type": "code",
   "execution_count": 8,
   "id": "cd88dd56",
   "metadata": {},
   "outputs": [
    {
     "name": "stdout",
     "output_type": "stream",
     "text": [
      "평가 결과:\n",
      "...val_sparse_categorical_accuracy: 0.9587\n",
      "...val_loss: 0.1797\n"
     ]
    }
   ],
   "source": [
    "#평가루프 구성\n",
    "def test_step(inputs, targets):\n",
    "    predictions = model(inputs, training=False)\n",
    "    loss = loss_fn(targets, predictions)\n",
    "\n",
    "    logs = {}\n",
    "    for metric in metrics:\n",
    "        metric.update_state(targets, predictions)\n",
    "        logs[\"val_\" + metric.name] = metric.result()\n",
    "\n",
    "    loss_tracking_metric.update_state(loss)\n",
    "    logs[\"val_loss\"] = loss_tracking_metric.result()\n",
    "    return logs\n",
    "\n",
    "#평가 루프\n",
    "val_dataset = tf.data.Dataset.from_tensor_slices((val_images, val_labels))\n",
    "val_dataset = val_dataset.batch(32)\n",
    "reset_metrics()\n",
    "for inputs_batch, targets_batch in val_dataset:\n",
    "    logs = test_step(inputs_batch, targets_batch)\n",
    "print(\"평가 결과:\")\n",
    "for key, value in logs.items():\n",
    "    print(f\"...{key}: {value:.4f}\")"
   ]
  },
  {
   "cell_type": "code",
   "execution_count": 9,
   "id": "591de0cb",
   "metadata": {},
   "outputs": [
    {
     "name": "stderr",
     "output_type": "stream",
     "text": [
      "2023-10-26 12:28:22.704025: W tensorflow/tsl/platform/profile_utils/cpu_utils.cc:128] Failed to get CPU frequency: 0 Hz\n"
     ]
    },
    {
     "name": "stdout",
     "output_type": "stream",
     "text": [
      "평가 결과:\n",
      "...val_sparse_categorical_accuracy: 0.9587\n",
      "...val_loss: 0.1797\n"
     ]
    }
   ],
   "source": [
    "#전역 최적화를 위한 tf.function 데코레이터 사용\n",
    "\n",
    "@tf.function\n",
    "def test_step(inputs, targets):\n",
    "    predictions = model(inputs, training=False)\n",
    "    loss = loss_fn(targets, predictions)\n",
    "\n",
    "    logs = {}\n",
    "    for metric in metrics:\n",
    "        metric.update_state(targets, predictions)\n",
    "        logs[\"val_\" + metric.name] = metric.result()\n",
    "\n",
    "    loss_tracking_metric.update_state(loss)\n",
    "    logs[\"val_loss\"] = loss_tracking_metric.result()\n",
    "    return logs\n",
    "\n",
    "val_dataset = tf.data.Dataset.from_tensor_slices((val_images, val_labels))\n",
    "val_dataset = val_dataset.batch(32)\n",
    "reset_metrics()\n",
    "for inputs_batch, targets_batch in val_dataset:\n",
    "    logs = test_step(inputs_batch, targets_batch)\n",
    "print(\"평가 결과:\")\n",
    "for key, value in logs.items():\n",
    "    print(f\"...{key}: {value:.4f}\")"
   ]
  },
  {
   "cell_type": "code",
   "execution_count": 10,
   "id": "4fe9d174",
   "metadata": {},
   "outputs": [],
   "source": [
    "# fit()이 사용할 사용자 정의 훈련 스텝 구현하기\n",
    "\n",
    "loss_fn = keras.losses.SparseCategoricalCrossentropy()\n",
    "loss_tracker = keras.metrics.Mean(name=\"loss\")\n",
    "\n",
    "class CustomModel(keras.Model):\n",
    "    def train_step(self, data):\n",
    "        inputs, targets = data\n",
    "        with tf.GradientTape() as tape:\n",
    "            predictions = self(inputs, training=True)\n",
    "            loss = loss_fn(targets, predictions)\n",
    "        gradients = tape.gradient(loss, self.trainable_weights)\n",
    "        self.optimizer.apply_gradients(zip(gradients, self.trainable_weights))\n",
    "\n",
    "        loss_tracker.update_state(loss)\n",
    "        return {\"loss\": loss_tracker.result()}\n",
    "\n",
    "    @property\n",
    "    def metrics(self):\n",
    "        return [loss_tracker]"
   ]
  },
  {
   "cell_type": "code",
   "execution_count": 13,
   "id": "362f451d",
   "metadata": {},
   "outputs": [
    {
     "name": "stdout",
     "output_type": "stream",
     "text": [
      "Epoch 1/3\n"
     ]
    },
    {
     "name": "stderr",
     "output_type": "stream",
     "text": [
      "loc(\"mps_select\"(\"(mpsFileLoc): /AppleInternal/Library/BuildRoots/75428952-3aa4-11ee-8b65-46d450270006/Library/Caches/com.apple.xbs/Sources/MetalPerformanceShadersGraph/mpsgraph/MetalPerformanceShadersGraph/Core/Files/MPSGraphUtilities.mm\":294:0)): error: 'anec.gain_offset_control' op result #0 must be 4D/5D memref of 16-bit float or 8-bit signed integer or 8-bit unsigned integer values, but got 'memref<1x32x1x512xi1>'\n",
      "loc(\"mps_select\"(\"(mpsFileLoc): /AppleInternal/Library/BuildRoots/75428952-3aa4-11ee-8b65-46d450270006/Library/Caches/com.apple.xbs/Sources/MetalPerformanceShadersGraph/mpsgraph/MetalPerformanceShadersGraph/Core/Files/MPSGraphUtilities.mm\":294:0)): error: 'anec.gain_offset_control' op result #0 must be 4D/5D memref of 16-bit float or 8-bit signed integer or 8-bit unsigned integer values, but got 'memref<1x32x1x512xi1>'\n"
     ]
    },
    {
     "name": "stdout",
     "output_type": "stream",
     "text": [
      "1558/1563 [============================>.] - ETA: 0s - loss: 0.2856"
     ]
    },
    {
     "name": "stderr",
     "output_type": "stream",
     "text": [
      "loc(\"mps_select\"(\"(mpsFileLoc): /AppleInternal/Library/BuildRoots/75428952-3aa4-11ee-8b65-46d450270006/Library/Caches/com.apple.xbs/Sources/MetalPerformanceShadersGraph/mpsgraph/MetalPerformanceShadersGraph/Core/Files/MPSGraphUtilities.mm\":294:0)): error: 'anec.gain_offset_control' op result #0 must be 4D/5D memref of 16-bit float or 8-bit signed integer or 8-bit unsigned integer values, but got 'memref<1x16x1x512xi1>'\n"
     ]
    },
    {
     "name": "stdout",
     "output_type": "stream",
     "text": [
      "1563/1563 [==============================] - 14s 7ms/step - loss: 0.2851\n",
      "Epoch 2/3\n",
      "   1/1563 [..............................] - ETA: 20s - loss: 0.0847"
     ]
    },
    {
     "name": "stderr",
     "output_type": "stream",
     "text": [
      "loc(\"mps_select\"(\"(mpsFileLoc): /AppleInternal/Library/BuildRoots/75428952-3aa4-11ee-8b65-46d450270006/Library/Caches/com.apple.xbs/Sources/MetalPerformanceShadersGraph/mpsgraph/MetalPerformanceShadersGraph/Core/Files/MPSGraphUtilities.mm\":294:0)): error: 'anec.gain_offset_control' op result #0 must be 4D/5D memref of 16-bit float or 8-bit signed integer or 8-bit unsigned integer values, but got 'memref<1x16x1x512xi1>'\n"
     ]
    },
    {
     "name": "stdout",
     "output_type": "stream",
     "text": [
      "1563/1563 [==============================] - 11s 7ms/step - loss: 0.1572\n",
      "Epoch 3/3\n",
      "1563/1563 [==============================] - 11s 7ms/step - loss: 0.1261\n"
     ]
    },
    {
     "data": {
      "text/plain": [
       "<keras.callbacks.History at 0x15a231870>"
      ]
     },
     "execution_count": 13,
     "metadata": {},
     "output_type": "execute_result"
    }
   ],
   "source": [
    "inputs = keras.Input(shape=(28 * 28,))\n",
    "features = keras.layers.Dense(512, activation=\"relu\")(inputs)\n",
    "features = keras.layers.Dropout(0.5)(features)\n",
    "outputs = keras.layers.Dense(10, activation=\"softmax\")(features)\n",
    "model = CustomModel(inputs, outputs)\n",
    "\n",
    "model.compile(optimizer=keras.optimizers.legacy.RMSprop())\n",
    "model.fit(train_images, train_labels, epochs=3)"
   ]
  },
  {
   "cell_type": "code",
   "execution_count": 15,
   "id": "7e744d24",
   "metadata": {},
   "outputs": [
    {
     "name": "stdout",
     "output_type": "stream",
     "text": [
      "Epoch 1/3\n"
     ]
    },
    {
     "name": "stderr",
     "output_type": "stream",
     "text": [
      "loc(\"mps_select\"(\"(mpsFileLoc): /AppleInternal/Library/BuildRoots/75428952-3aa4-11ee-8b65-46d450270006/Library/Caches/com.apple.xbs/Sources/MetalPerformanceShadersGraph/mpsgraph/MetalPerformanceShadersGraph/Core/Files/MPSGraphUtilities.mm\":294:0)): error: 'anec.gain_offset_control' op result #0 must be 4D/5D memref of 16-bit float or 8-bit signed integer or 8-bit unsigned integer values, but got 'memref<1x32x1x512xi1>'\n",
      "loc(\"mps_select\"(\"(mpsFileLoc): /AppleInternal/Library/BuildRoots/75428952-3aa4-11ee-8b65-46d450270006/Library/Caches/com.apple.xbs/Sources/MetalPerformanceShadersGraph/mpsgraph/MetalPerformanceShadersGraph/Core/Files/MPSGraphUtilities.mm\":294:0)): error: 'anec.gain_offset_control' op result #0 must be 4D/5D memref of 16-bit float or 8-bit signed integer or 8-bit unsigned integer values, but got 'memref<1x32x1x512xi1>'\n"
     ]
    },
    {
     "name": "stdout",
     "output_type": "stream",
     "text": [
      "1561/1563 [============================>.] - ETA: 0s - loss: 0.2853 - sparse_categorical_accuracy: 0.9160"
     ]
    },
    {
     "name": "stderr",
     "output_type": "stream",
     "text": [
      "loc(\"mps_select\"(\"(mpsFileLoc): /AppleInternal/Library/BuildRoots/75428952-3aa4-11ee-8b65-46d450270006/Library/Caches/com.apple.xbs/Sources/MetalPerformanceShadersGraph/mpsgraph/MetalPerformanceShadersGraph/Core/Files/MPSGraphUtilities.mm\":294:0)): error: 'anec.gain_offset_control' op result #0 must be 4D/5D memref of 16-bit float or 8-bit signed integer or 8-bit unsigned integer values, but got 'memref<1x16x1x512xi1>'\n"
     ]
    },
    {
     "name": "stdout",
     "output_type": "stream",
     "text": [
      "1563/1563 [==============================] - 16s 9ms/step - loss: 0.2853 - sparse_categorical_accuracy: 0.9160\n",
      "Epoch 2/3\n",
      "   1/1563 [..............................] - ETA: 18s - loss: 0.0507 - sparse_categorical_accuracy: 0.9688"
     ]
    },
    {
     "name": "stderr",
     "output_type": "stream",
     "text": [
      "loc(\"mps_select\"(\"(mpsFileLoc): /AppleInternal/Library/BuildRoots/75428952-3aa4-11ee-8b65-46d450270006/Library/Caches/com.apple.xbs/Sources/MetalPerformanceShadersGraph/mpsgraph/MetalPerformanceShadersGraph/Core/Files/MPSGraphUtilities.mm\":294:0)): error: 'anec.gain_offset_control' op result #0 must be 4D/5D memref of 16-bit float or 8-bit signed integer or 8-bit unsigned integer values, but got 'memref<1x16x1x512xi1>'\n"
     ]
    },
    {
     "name": "stdout",
     "output_type": "stream",
     "text": [
      "1563/1563 [==============================] - 14s 9ms/step - loss: 0.1545 - sparse_categorical_accuracy: 0.9563\n",
      "Epoch 3/3\n",
      "1563/1563 [==============================] - 14s 9ms/step - loss: 0.1277 - sparse_categorical_accuracy: 0.9654\n"
     ]
    },
    {
     "data": {
      "text/plain": [
       "<keras.callbacks.History at 0x15a720f10>"
      ]
     },
     "execution_count": 15,
     "metadata": {},
     "output_type": "execute_result"
    }
   ],
   "source": [
    "class CustomModel(keras.Model):\n",
    "    def train_step(self, data):\n",
    "        inputs, targets = data\n",
    "        with tf.GradientTape() as tape:\n",
    "            predictions = self(inputs, training=True)\n",
    "            #손실계산\n",
    "            loss = self.compiled_loss(targets, predictions)\n",
    "        gradients = tape.gradient(loss, self.trainable_weights)\n",
    "        self.optimizer.apply_gradients(zip(gradients, self.trainable_weights))\n",
    "        #모델 지표 업데이트\n",
    "        self.compiled_metrics.update_state(targets, predictions)\n",
    "        return {m.name: m.result() for m in self.metrics}\n",
    "\n",
    "inputs = keras.Input(shape=(28 * 28,))\n",
    "features = keras.layers.Dense(512, activation=\"relu\")(inputs)\n",
    "features = keras.layers.Dropout(0.5)(features)\n",
    "outputs = keras.layers.Dense(10, activation=\"softmax\")(features)\n",
    "model = CustomModel(inputs, outputs)\n",
    "\n",
    "model.compile(optimizer=keras.optimizers.legacy.RMSprop(),\n",
    "              loss=keras.losses.SparseCategoricalCrossentropy(),\n",
    "              metrics=[keras.metrics.SparseCategoricalAccuracy()])\n",
    "\n",
    "model.fit(train_images, train_labels, epochs=3)"
   ]
  }
 ],
 "metadata": {
  "kernelspec": {
   "display_name": "Python 3 (ipykernel)",
   "language": "python",
   "name": "python3"
  },
  "language_info": {
   "codemirror_mode": {
    "name": "ipython",
    "version": 3
   },
   "file_extension": ".py",
   "mimetype": "text/x-python",
   "name": "python",
   "nbconvert_exporter": "python",
   "pygments_lexer": "ipython3",
   "version": "3.10.9"
  }
 },
 "nbformat": 4,
 "nbformat_minor": 5
}
