{
  "nbformat": 4,
  "nbformat_minor": 0,
  "metadata": {
    "colab": {
      "provenance": []
    },
    "kernelspec": {
      "name": "python3",
      "display_name": "Python 3"
    },
    "language_info": {
      "name": "python"
    }
  },
  "cells": [
    {
      "cell_type": "markdown",
      "source": [
        "# 다층 퍼셉트론으로 XOR gate 표현하기"
      ],
      "metadata": {
        "id": "apQjkiHx1FgJ"
      }
    },
    {
      "cell_type": "code",
      "execution_count": null,
      "metadata": {
        "id": "yHyZSBL9KWfC"
      },
      "outputs": [],
      "source": [
        "# AND gate\n",
        "def AND(x1, x2):\n",
        "    x = np.array([x1,x2])\n",
        "    w = np.array([0.5, 0.5]) #w, b의 값은 조합에 따라 달라질 수 있음!\n",
        "    b = -0.7\n",
        "    tmp = np.sum(x*w)+b\n",
        "    if tmp <= 0:\n",
        "    \treturn 0\n",
        "    else:\n",
        "    \treturn 1\n",
        "\n",
        "# OR gate\n",
        "def OR(x1, x2):\n",
        "    x = np.array([x1,x2])\n",
        "    w = np.array([0.5, 0.5])\n",
        "    b = -0.2\n",
        "    tmp = np.sum(x*w)+b\n",
        "    if tmp <= 0:\n",
        "    \treturn 0\n",
        "    else:\n",
        "    \treturn 1\n",
        "\n",
        "# NAND gate\n",
        "def NAND(x1, x2):\n",
        "    x = np.array([x1,x2])\n",
        "    w = np.array([-0.5, -0.5])\n",
        "    b = 0.7\n",
        "    tmp = np.sum(x*w)+b\n",
        "    if tmp <= 0:\n",
        "    \treturn 0\n",
        "    else:\n",
        "    \treturn 1\n",
        "\n",
        "#XOR gate\n",
        "def XOR(x1, x2):\n",
        "    s1 = NAND(x1, x2)\n",
        "    s2 = OR(x1, x2)\n",
        "    y = AND(s1,s2)\n",
        "    return y\n"
      ]
    }
  ]
}