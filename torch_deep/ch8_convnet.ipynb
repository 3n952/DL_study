{
 "cells": [
  {
   "cell_type": "code",
   "execution_count": 2,
   "metadata": {},
   "outputs": [
    {
     "data": {
      "text/plain": [
       "Conv2d(3, 16, kernel_size=(3, 3), stride=(1, 1))"
      ]
     },
     "execution_count": 2,
     "metadata": {},
     "output_type": "execute_result"
    }
   ],
   "source": [
    "import torch.nn as nn\n",
    "conv = nn.Conv2d(3, 16, kernel_size =3)\n",
    "conv"
   ]
  },
  {
   "cell_type": "code",
   "execution_count": 3,
   "metadata": {},
   "outputs": [
    {
     "data": {
      "text/plain": [
       "torch.Size([16, 3, 3, 3])"
      ]
     },
     "execution_count": 3,
     "metadata": {},
     "output_type": "execute_result"
    }
   ],
   "source": [
    "conv.weight.shape"
   ]
  },
  {
   "cell_type": "code",
   "execution_count": 4,
   "metadata": {},
   "outputs": [],
   "source": [
    "# padding \n",
    "conv = nn.Conv2d(3, 16, kernel_size=3, padding=1)\n"
   ]
  },
  {
   "cell_type": "code",
   "execution_count": 5,
   "metadata": {},
   "outputs": [],
   "source": [
    "#pooling\n",
    "\n",
    "pool = nn.MaxPool2d(2)\n",
    "# output = pool(img)"
   ]
  },
  {
   "cell_type": "code",
   "execution_count": 1,
   "metadata": {},
   "outputs": [
    {
     "data": {
      "text/plain": [
       "(18090, [432, 16, 1152, 8, 16384, 32, 64, 2])"
      ]
     },
     "execution_count": 1,
     "metadata": {},
     "output_type": "execute_result"
    }
   ],
   "source": [
    "# subclassing으로 모델 계층 만들기\n",
    "import torch.nn as nn\n",
    "\n",
    "class mynet(nn.Module):\n",
    "    def __init__(self):\n",
    "        super().__init__()\n",
    "        self.conv1 = nn.Conv2d(3, 16, kernel_size=3, padding=1)\n",
    "        self.act = nn.Tanh()\n",
    "        self.pool = nn.MaxPool2d(2)\n",
    "        self.conv2 = nn.Conv2d(16, 8, kernel_size=3, padding=1)\n",
    "        self.fc1 = nn.Linear(8*8*8, 32)\n",
    "        self.fc2 = nn.Linear(32,2)\n",
    "\n",
    "    def forward(self, x):\n",
    "        out = self.pool(self.act(self.conv1(x)))\n",
    "        out = self.pool(self.act(self.conv2(out)))\n",
    "        out = out.view(-1, 8*8*8)\n",
    "        out = self.act(self.fc1(out))\n",
    "        out = self.fc2(out)\n",
    "        return out\n",
    "    \n",
    "\n",
    "model = mynet()\n",
    "numel_list = [p.numel() for p in model.parameters()]\n",
    "sum(numel_list), numel_list"
   ]
  },
  {
   "cell_type": "code",
   "execution_count": 2,
   "metadata": {},
   "outputs": [],
   "source": [
    "# 신경망 훈련시켜보기f\n",
    "from torchvision import transforms, datasets\n",
    "import torch\n",
    "import torch.optim as optim\n",
    "\n",
    "transform= transforms.Compose([\n",
    "    transforms.ToTensor(),\n",
    "    transforms.Normalize((0.4914, 0.4822, 0.4465), (0.2470, 0.2435, 0.2616))\n",
    "])\n",
    "\n",
    "label_map = {0:0, 2:1}\n",
    "class_name = ['airplane', 'bird']\n",
    "\n",
    "cifar10 = datasets.CIFAR10('.', train=True, download=False, transform=transform)\n",
    "cifar10_val = datasets.CIFAR10('.', train=False, download=False, transform=transform)\n",
    "\n",
    "cifar2 = [(img, label_map[label]) for img, label in cifar10 if label in [0,2]]\n",
    "cifar2_val = [(img, label_map[label]) for img, label in cifar10_val if label in [0,2]]\n",
    "\n",
    "\n",
    "def traning_loop(epochs, optimizer, input_model, loss_func, input):\n",
    "    for epoch in range(1, epochs+1):\n",
    "        loss_train = 0.0\n",
    "        for imgs, labels in input:\n",
    "            output = input_model(imgs)\n",
    "            loss = loss_func(output, labels)\n",
    "\n",
    "            optimizer.zero_grad()\n",
    "            loss.backward()\n",
    "            optimizer.step()\n",
    "\n",
    "        loss_train += loss.item()\n",
    "    \n",
    "    if epoch == 1 or epoch % 10 ==0:\n",
    "        print('Epoch {}, Training loss {}', epoch, loss_train/len(input))\n",
    "\n",
    "\n"
   ]
  },
  {
   "cell_type": "code",
   "execution_count": null,
   "metadata": {},
   "outputs": [],
   "source": [
    "\n",
    "model = mynet()\n",
    "optimizer = optim.Adam(model.parameters(), lr = 1e-3)\n",
    "loss_fn = nn.CrossEntropyLoss()\n",
    "traning_loop(100, optimizer, model, loss_fn, train_loader)"
   ]
  },
  {
   "cell_type": "code",
   "execution_count": null,
   "metadata": {},
   "outputs": [],
   "source": [
    "path = '/Users/'\n",
    "# 모델 저장\n",
    "torch.save(model.state_dict(), path + 'first_convnet_for_torch.pt')\n",
    "\n",
    "# 모델 로드\n",
    "mymodel = mynet()\n",
    "mymodel.load_state_dict(torch.load(path + 'first_convnet_for_torch.pt'))"
   ]
  },
  {
   "cell_type": "code",
   "execution_count": 3,
   "metadata": {},
   "outputs": [
    {
     "name": "stdout",
     "output_type": "stream",
     "text": [
      "MPS 장치를 지원하도록 build가 되었는가? True\n",
      "MPS 장치가 사용 가능한가? True\n",
      "cpu\n",
      "mps\n"
     ]
    }
   ],
   "source": [
    "print(f\"MPS 장치를 지원하도록 build가 되었는가? {torch.backends.mps.is_built()}\")\n",
    "print(f\"MPS 장치가 사용 가능한가? {torch.backends.mps.is_available()}\") \n",
    "\n",
    "# for cuda\n",
    "device1 = (torch.device('mps') if torch.cuda.is_available() else torch.device('cpu'))\n",
    "print(device1)\n",
    "\n",
    "# for m1 mps\n",
    "device = (torch.device('mps') if torch.backends.mps.is_available() else torch.device('cpu'))\n",
    "print(device)"
   ]
  },
  {
   "cell_type": "code",
   "execution_count": 4,
   "metadata": {},
   "outputs": [
    {
     "name": "stdout",
     "output_type": "stream",
     "text": [
      "Epoch 1, Training loss 0.0016377558753748608\n",
      "Epoch 10, Training loss 0.0018247466558104109\n",
      "Epoch 20, Training loss 0.0013926970730921266\n",
      "Epoch 30, Training loss 0.00034714791520385987\n",
      "Epoch 40, Training loss 5.127190594460554e-05\n",
      "Epoch 50, Training loss 1.1166556186641857e-05\n",
      "Epoch 60, Training loss 1.450032173733043e-05\n",
      "Epoch 70, Training loss 3.856712815820412e-06\n",
      "Epoch 80, Training loss 0.0002573950655141454\n",
      "Epoch 90, Training loss 4.7895888305583575e-06\n",
      "Epoch 100, Training loss 3.2131144907444145e-05\n"
     ]
    }
   ],
   "source": [
    "def traning_loop(epochs, optimizer, input_model, loss_func, input):\n",
    "    for epoch in range(1, epochs+1):\n",
    "        loss_train = 0.0\n",
    "        for imgs, labels in input:\n",
    "            imgs = imgs.to(device = device)\n",
    "            labels = labels.to(device = device)\n",
    "            output = input_model(imgs)\n",
    "            loss = loss_func(output, labels)\n",
    "\n",
    "            optimizer.zero_grad()\n",
    "            loss.backward()\n",
    "            optimizer.step()\n",
    "\n",
    "        loss_train += loss.item()\n",
    "    \n",
    "        if epoch == 1 or epoch % 10 ==0:\n",
    "            print(f'Epoch {epoch}, Training loss {loss_train/len(input)}')\n",
    "\n",
    "train_loader = torch.utils.data.DataLoader(cifar2, batch_size = 64, shuffle = True)\n",
    "model = mynet().to(device=device)\n",
    "optimizer = optim.Adam(model.parameters(), lr = 1e-3)\n",
    "loss_fn = nn.CrossEntropyLoss()\n",
    "traning_loop(100, optimizer, model, loss_fn, train_loader)"
   ]
  },
  {
   "cell_type": "code",
   "execution_count": null,
   "metadata": {},
   "outputs": [],
   "source": []
  }
 ],
 "metadata": {
  "kernelspec": {
   "display_name": "torch",
   "language": "python",
   "name": "python3"
  },
  "language_info": {
   "codemirror_mode": {
    "name": "ipython",
    "version": 3
   },
   "file_extension": ".py",
   "mimetype": "text/x-python",
   "name": "python",
   "nbconvert_exporter": "python",
   "pygments_lexer": "ipython3",
   "version": "3.8.19"
  }
 },
 "nbformat": 4,
 "nbformat_minor": 2
}
